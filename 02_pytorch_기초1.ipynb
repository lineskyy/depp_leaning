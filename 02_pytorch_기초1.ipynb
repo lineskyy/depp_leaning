{
  "nbformat": 4,
  "nbformat_minor": 0,
  "metadata": {
    "colab": {
      "provenance": [],
      "collapsed_sections": []
    },
    "kernelspec": {
      "name": "python3",
      "display_name": "Python 3"
    },
    "language_info": {
      "name": "python"
    }
  },
  "cells": [
    {
      "cell_type": "markdown",
      "source": [
        "# Pytorch\n",
        "- 구글의 tensorflow와 유사한 딥러닝 라이브러리\n",
        "- 페이스북 인공지능 연구팀에 의해 주로 개발\n",
        "- torch\n",
        "    - 텐서 변환및 다양한 수학 함수와 클래스가 들어가 있다.\n",
        "- torch.nn\n",
        "     - 신경망을 구축하기위한 레이어(층), 활성화 함수, 손실함수 등이 들어가 있다.\n",
        "- torch.utils.data\n",
        "    - 미니 배치 학습을 위한 데이터셋을 구성하는 클래스들이 들어가 있다.\n",
        "- torch.optim\n",
        "    - optimizer 관련된 함수와 클래스가 있다."
      ],
      "metadata": {
        "id": "zMpx1IrUazLB"
      }
    },
    {
      "cell_type": "code",
      "execution_count": 1,
      "metadata": {
        "id": "SH0cA5_jaRsF"
      },
      "outputs": [],
      "source": [
        "import torch \n",
        "import numpy as np"
      ]
    },
    {
      "cell_type": "markdown",
      "source": [
        "# 텐서(Tensor)\n",
        "- N-차원 배열\n",
        "- 텐서는 다차원 배열이나 행렬과 매우 유사한 특수한 자료구조\n",
        "- pytorch 에서는 텐서를 딥러닝 모델의 입력과 출력으로 하여 학습을 진행 "
      ],
      "metadata": {
        "id": "6s9xHP8rdBmb"
      }
    },
    {
      "cell_type": "markdown",
      "source": [
        "## 텐서 만들기"
      ],
      "metadata": {
        "id": "9Hup1nMXds4u"
      }
    },
    {
      "cell_type": "markdown",
      "source": [
        "- tensor 함수\n",
        "    - 입력받은 데이터를 텐서 객체로 반환"
      ],
      "metadata": {
        "id": "Ijd3AfQMdqk9"
      }
    },
    {
      "cell_type": "code",
      "source": [
        "data = [\n",
        "    [1,2,3],\n",
        "    [4,5,6]\n",
        "]\n",
        "x = torch.tensor(data)\n",
        "x"
      ],
      "metadata": {
        "colab": {
          "base_uri": "https://localhost:8080/"
        },
        "id": "IMQritLbdp1O",
        "outputId": "cf671add-e5ab-4428-f10d-f9ca9c2dd954"
      },
      "execution_count": 2,
      "outputs": [
        {
          "output_type": "execute_result",
          "data": {
            "text/plain": [
              "tensor([[1, 2, 3],\n",
              "        [4, 5, 6]])"
            ]
          },
          "metadata": {},
          "execution_count": 2
        }
      ]
    },
    {
      "cell_type": "code",
      "source": [
        "type(x)"
      ],
      "metadata": {
        "colab": {
          "base_uri": "https://localhost:8080/"
        },
        "id": "n2xtEnwLdpyH",
        "outputId": "68f867ed-192f-49d8-df6e-73e4925096bc"
      },
      "execution_count": 3,
      "outputs": [
        {
          "output_type": "execute_result",
          "data": {
            "text/plain": [
              "torch.Tensor"
            ]
          },
          "metadata": {},
          "execution_count": 3
        }
      ]
    },
    {
      "cell_type": "code",
      "source": [
        "x.dtype"
      ],
      "metadata": {
        "colab": {
          "base_uri": "https://localhost:8080/"
        },
        "id": "iiymTYJFdpvU",
        "outputId": "41a2d052-8724-4c47-fb43-853377307039"
      },
      "execution_count": 4,
      "outputs": [
        {
          "output_type": "execute_result",
          "data": {
            "text/plain": [
              "torch.int64"
            ]
          },
          "metadata": {},
          "execution_count": 4
        }
      ]
    },
    {
      "cell_type": "code",
      "source": [
        "arr = np.array(data)\n",
        "torch.tensor(arr)"
      ],
      "metadata": {
        "colab": {
          "base_uri": "https://localhost:8080/"
        },
        "id": "4AgQsTlxc98Y",
        "outputId": "a3ad737a-14a3-44ef-de26-9ad301580d1c"
      },
      "execution_count": 5,
      "outputs": [
        {
          "output_type": "execute_result",
          "data": {
            "text/plain": [
              "tensor([[1, 2, 3],\n",
              "        [4, 5, 6]])"
            ]
          },
          "metadata": {},
          "execution_count": 5
        }
      ]
    },
    {
      "cell_type": "code",
      "source": [
        "arr"
      ],
      "metadata": {
        "colab": {
          "base_uri": "https://localhost:8080/"
        },
        "id": "4WwHNX0Rc952",
        "outputId": "05948723-8f65-40ec-84cb-8936a611f605"
      },
      "execution_count": 6,
      "outputs": [
        {
          "output_type": "execute_result",
          "data": {
            "text/plain": [
              "array([[1, 2, 3],\n",
              "       [4, 5, 6]])"
            ]
          },
          "metadata": {},
          "execution_count": 6
        }
      ]
    },
    {
      "cell_type": "markdown",
      "source": [
        "- Tensor 클래스\n",
        "    - 입력받은 데이터를 텐서 객체로 반환\n",
        "    - 다른점은 데이터 타입을 float32 로 변경해준다."
      ],
      "metadata": {
        "id": "_DrKWONkesat"
      }
    },
    {
      "cell_type": "code",
      "source": [
        "x = torch.Tensor(arr)\n",
        "x"
      ],
      "metadata": {
        "colab": {
          "base_uri": "https://localhost:8080/"
        },
        "id": "jF0yIsvLc93X",
        "outputId": "9505e659-5bce-4201-d361-d81b8af356b3"
      },
      "execution_count": 7,
      "outputs": [
        {
          "output_type": "execute_result",
          "data": {
            "text/plain": [
              "tensor([[1., 2., 3.],\n",
              "        [4., 5., 6.]])"
            ]
          },
          "metadata": {},
          "execution_count": 7
        }
      ]
    },
    {
      "cell_type": "markdown",
      "source": [
        "- ones , zeros"
      ],
      "metadata": {
        "id": "TlAhDjNUi4qK"
      }
    },
    {
      "cell_type": "code",
      "source": [
        "ones_tensor = torch.ones(2,3)\n",
        "ones_tensor"
      ],
      "metadata": {
        "colab": {
          "base_uri": "https://localhost:8080/"
        },
        "id": "sNXvZmHLc9yd",
        "outputId": "d5cf8097-b632-4966-efab-23e2f94510b7"
      },
      "execution_count": 8,
      "outputs": [
        {
          "output_type": "execute_result",
          "data": {
            "text/plain": [
              "tensor([[1., 1., 1.],\n",
              "        [1., 1., 1.]])"
            ]
          },
          "metadata": {},
          "execution_count": 8
        }
      ]
    },
    {
      "cell_type": "code",
      "source": [
        "zeros_tensor = torch.zeros(2,3)\n",
        "zeros_tensor"
      ],
      "metadata": {
        "colab": {
          "base_uri": "https://localhost:8080/"
        },
        "id": "J4ovfpOdc9v3",
        "outputId": "4dea878e-7375-4926-ebfe-379cd61329e6"
      },
      "execution_count": 9,
      "outputs": [
        {
          "output_type": "execute_result",
          "data": {
            "text/plain": [
              "tensor([[0., 0., 0.],\n",
              "        [0., 0., 0.]])"
            ]
          },
          "metadata": {},
          "execution_count": 9
        }
      ]
    },
    {
      "cell_type": "code",
      "source": [
        "torch.cat([ones_tensor,zeros_tensor],dim=1)"
      ],
      "metadata": {
        "colab": {
          "base_uri": "https://localhost:8080/"
        },
        "id": "3Ju1WPQ8c9tL",
        "outputId": "bf38582d-83f6-4adb-82bd-f8775c97c08e"
      },
      "execution_count": 10,
      "outputs": [
        {
          "output_type": "execute_result",
          "data": {
            "text/plain": [
              "tensor([[1., 1., 1., 0., 0., 0.],\n",
              "        [1., 1., 1., 0., 0., 0.]])"
            ]
          },
          "metadata": {},
          "execution_count": 10
        }
      ]
    },
    {
      "cell_type": "markdown",
      "source": [
        "# 차원 변경\n",
        "- view 메소드\n",
        "    - 원소의 순서대로 차원을 변경해서 반환"
      ],
      "metadata": {
        "id": "OjMvfa9Dko3m"
      }
    },
    {
      "cell_type": "code",
      "source": [
        "x = torch.Tensor(arr)\n",
        "x"
      ],
      "metadata": {
        "colab": {
          "base_uri": "https://localhost:8080/"
        },
        "id": "T-kWcy0uky0B",
        "outputId": "db22da81-7124-4907-dee0-c0d8e1aba05d"
      },
      "execution_count": 11,
      "outputs": [
        {
          "output_type": "execute_result",
          "data": {
            "text/plain": [
              "tensor([[1., 2., 3.],\n",
              "        [4., 5., 6.]])"
            ]
          },
          "metadata": {},
          "execution_count": 11
        }
      ]
    },
    {
      "cell_type": "code",
      "source": [
        "x_view = x.view(3,2)\n",
        "x_view"
      ],
      "metadata": {
        "colab": {
          "base_uri": "https://localhost:8080/"
        },
        "id": "YF7mUhxikyxA",
        "outputId": "a300d450-b5f4-4d66-bc15-1bd3281ec97a"
      },
      "execution_count": 12,
      "outputs": [
        {
          "output_type": "execute_result",
          "data": {
            "text/plain": [
              "tensor([[1., 2.],\n",
              "        [3., 4.],\n",
              "        [5., 6.]])"
            ]
          },
          "metadata": {},
          "execution_count": 12
        }
      ]
    },
    {
      "cell_type": "markdown",
      "source": [
        "- 복사하기"
      ],
      "metadata": {
        "id": "RJsFhmckl1u2"
      }
    },
    {
      "cell_type": "code",
      "source": [
        "x.clone()"
      ],
      "metadata": {
        "colab": {
          "base_uri": "https://localhost:8080/"
        },
        "id": "2Y0cmkLalo_H",
        "outputId": "9d73549a-24d0-4486-d6c0-f4d9239ace30"
      },
      "execution_count": 13,
      "outputs": [
        {
          "output_type": "execute_result",
          "data": {
            "text/plain": [
              "tensor([[1., 2., 3.],\n",
              "        [4., 5., 6.]])"
            ]
          },
          "metadata": {},
          "execution_count": 13
        }
      ]
    },
    {
      "cell_type": "markdown",
      "source": [
        "- transpose 메소드\n",
        "    - 차원 맞바꾸기\n",
        "    - 두개의 차원만 가능"
      ],
      "metadata": {
        "id": "JKfHbDqpmJ3Q"
      }
    },
    {
      "cell_type": "code",
      "source": [
        "x"
      ],
      "metadata": {
        "colab": {
          "base_uri": "https://localhost:8080/"
        },
        "id": "W9xz-5pTmnkX",
        "outputId": "abf01d71-c568-47c8-fd83-24ba1b1202c5"
      },
      "execution_count": 14,
      "outputs": [
        {
          "output_type": "execute_result",
          "data": {
            "text/plain": [
              "tensor([[1., 2., 3.],\n",
              "        [4., 5., 6.]])"
            ]
          },
          "metadata": {},
          "execution_count": 14
        }
      ]
    },
    {
      "cell_type": "code",
      "source": [
        "x.transpose(0,1)"
      ],
      "metadata": {
        "colab": {
          "base_uri": "https://localhost:8080/"
        },
        "id": "yOP_RvKklo8S",
        "outputId": "f3ab8bcd-a1e9-4b32-dffc-545870b48c7f"
      },
      "execution_count": 15,
      "outputs": [
        {
          "output_type": "execute_result",
          "data": {
            "text/plain": [
              "tensor([[1., 4.],\n",
              "        [2., 5.],\n",
              "        [3., 6.]])"
            ]
          },
          "metadata": {},
          "execution_count": 15
        }
      ]
    },
    {
      "cell_type": "markdown",
      "source": [
        "- permute 메소드\n",
        "    - 여러개 차원 맞바꾸기"
      ],
      "metadata": {
        "id": "AQWHzijLm4Vc"
      }
    },
    {
      "cell_type": "code",
      "source": [
        "arr = np.arange(1,25).reshape(2,3,4)\n",
        "arr"
      ],
      "metadata": {
        "colab": {
          "base_uri": "https://localhost:8080/"
        },
        "id": "lLIT_kmAkdia",
        "outputId": "d01e7ccb-fdc8-46c1-df2a-469fc8c65879"
      },
      "execution_count": 16,
      "outputs": [
        {
          "output_type": "execute_result",
          "data": {
            "text/plain": [
              "array([[[ 1,  2,  3,  4],\n",
              "        [ 5,  6,  7,  8],\n",
              "        [ 9, 10, 11, 12]],\n",
              "\n",
              "       [[13, 14, 15, 16],\n",
              "        [17, 18, 19, 20],\n",
              "        [21, 22, 23, 24]]])"
            ]
          },
          "metadata": {},
          "execution_count": 16
        }
      ]
    },
    {
      "cell_type": "code",
      "source": [
        "x = torch.Tensor(arr)\n",
        "x"
      ],
      "metadata": {
        "colab": {
          "base_uri": "https://localhost:8080/"
        },
        "id": "en9TryjskdgA",
        "outputId": "07065f04-c948-49a9-e889-7ac42b0be775"
      },
      "execution_count": 17,
      "outputs": [
        {
          "output_type": "execute_result",
          "data": {
            "text/plain": [
              "tensor([[[ 1.,  2.,  3.,  4.],\n",
              "         [ 5.,  6.,  7.,  8.],\n",
              "         [ 9., 10., 11., 12.]],\n",
              "\n",
              "        [[13., 14., 15., 16.],\n",
              "         [17., 18., 19., 20.],\n",
              "         [21., 22., 23., 24.]]])"
            ]
          },
          "metadata": {},
          "execution_count": 17
        }
      ]
    },
    {
      "cell_type": "code",
      "source": [
        "x.shape"
      ],
      "metadata": {
        "colab": {
          "base_uri": "https://localhost:8080/"
        },
        "id": "I-P2oSX1kddM",
        "outputId": "2b81deec-16fc-4d13-a293-5a0f8bec5777"
      },
      "execution_count": 18,
      "outputs": [
        {
          "output_type": "execute_result",
          "data": {
            "text/plain": [
              "torch.Size([2, 3, 4])"
            ]
          },
          "metadata": {},
          "execution_count": 18
        }
      ]
    },
    {
      "cell_type": "code",
      "source": [
        "x.permute(0,2,1).shape"
      ],
      "metadata": {
        "colab": {
          "base_uri": "https://localhost:8080/"
        },
        "id": "o0ulWz35kdai",
        "outputId": "96e119a7-5521-4997-f4ee-6dac6cf4501b"
      },
      "execution_count": 19,
      "outputs": [
        {
          "output_type": "execute_result",
          "data": {
            "text/plain": [
              "torch.Size([2, 4, 3])"
            ]
          },
          "metadata": {},
          "execution_count": 19
        }
      ]
    },
    {
      "cell_type": "code",
      "source": [
        "x.permute(0,2,1)"
      ],
      "metadata": {
        "colab": {
          "base_uri": "https://localhost:8080/"
        },
        "id": "7yyxOztNniqj",
        "outputId": "1ff75c07-c42d-49ad-cbe5-642aa15792fd"
      },
      "execution_count": 20,
      "outputs": [
        {
          "output_type": "execute_result",
          "data": {
            "text/plain": [
              "tensor([[[ 1.,  5.,  9.],\n",
              "         [ 2.,  6., 10.],\n",
              "         [ 3.,  7., 11.],\n",
              "         [ 4.,  8., 12.]],\n",
              "\n",
              "        [[13., 17., 21.],\n",
              "         [14., 18., 22.],\n",
              "         [15., 19., 23.],\n",
              "         [16., 20., 24.]]])"
            ]
          },
          "metadata": {},
          "execution_count": 20
        }
      ]
    },
    {
      "cell_type": "markdown",
      "source": [
        "# 모델 학습에 사용할 CPU or GPU 장치 확인"
      ],
      "metadata": {
        "id": "dIO1dv1Znvs0"
      }
    },
    {
      "cell_type": "code",
      "source": [
        "device = \"cuda\" if torch.cuda.is_available() else \"cpu\"\n",
        "device"
      ],
      "metadata": {
        "colab": {
          "base_uri": "https://localhost:8080/",
          "height": 35
        },
        "id": "_p91Jy0nnviw",
        "outputId": "10182b57-51b6-42a0-ac47-18311a078031"
      },
      "execution_count": 21,
      "outputs": [
        {
          "output_type": "execute_result",
          "data": {
            "text/plain": [
              "'cpu'"
            ],
            "application/vnd.google.colaboratory.intrinsic+json": {
              "type": "string"
            }
          },
          "metadata": {},
          "execution_count": 21
        }
      ]
    },
    {
      "cell_type": "markdown",
      "source": [
        "- 텐서를 gpu로 이동시키기"
      ],
      "metadata": {
        "id": "5eFUhRcvoZ60"
      }
    },
    {
      "cell_type": "code",
      "source": [
        "x = x.to(device)\n",
        "x"
      ],
      "metadata": {
        "colab": {
          "base_uri": "https://localhost:8080/"
        },
        "id": "typD_6YpoZRG",
        "outputId": "42d18ac4-df5c-4a8e-df63-b9401631726a"
      },
      "execution_count": 22,
      "outputs": [
        {
          "output_type": "execute_result",
          "data": {
            "text/plain": [
              "tensor([[[ 1.,  2.,  3.,  4.],\n",
              "         [ 5.,  6.,  7.,  8.],\n",
              "         [ 9., 10., 11., 12.]],\n",
              "\n",
              "        [[13., 14., 15., 16.],\n",
              "         [17., 18., 19., 20.],\n",
              "         [21., 22., 23., 24.]]])"
            ]
          },
          "metadata": {},
          "execution_count": 22
        }
      ]
    },
    {
      "cell_type": "markdown",
      "source": [
        "- 텐서가 위치한 장치 확인하기"
      ],
      "metadata": {
        "id": "SoBptEQSosMF"
      }
    },
    {
      "cell_type": "code",
      "source": [
        "x.device"
      ],
      "metadata": {
        "colab": {
          "base_uri": "https://localhost:8080/"
        },
        "id": "U_xwF7khnvgG",
        "outputId": "1145942a-7a4b-41da-f8b7-860488839efc"
      },
      "execution_count": 23,
      "outputs": [
        {
          "output_type": "execute_result",
          "data": {
            "text/plain": [
              "device(type='cpu')"
            ]
          },
          "metadata": {},
          "execution_count": 23
        }
      ]
    },
    {
      "cell_type": "code",
      "source": [
        "x = x.to(\"cpu\")\n",
        "x.device"
      ],
      "metadata": {
        "colab": {
          "base_uri": "https://localhost:8080/"
        },
        "id": "z_ZShW7qnvdv",
        "outputId": "39a616d6-7844-4cc1-b1af-481986e785f9"
      },
      "execution_count": 24,
      "outputs": [
        {
          "output_type": "execute_result",
          "data": {
            "text/plain": [
              "device(type='cpu')"
            ]
          },
          "metadata": {},
          "execution_count": 24
        }
      ]
    },
    {
      "cell_type": "code",
      "source": [
        "from google.colab import drive\n",
        "drive.mount(\"/content/drive\")"
      ],
      "metadata": {
        "colab": {
          "base_uri": "https://localhost:8080/"
        },
        "id": "0USieqvsnva4",
        "outputId": "520e2187-b3b9-40bf-fb26-5ac23f7d1b53"
      },
      "execution_count": 25,
      "outputs": [
        {
          "output_type": "stream",
          "name": "stdout",
          "text": [
            "Mounted at /content/drive\n"
          ]
        }
      ]
    },
    {
      "cell_type": "code",
      "source": [
        "DATA_PATH = \"/content/drive/MyDrive/03-data-processing/data/\""
      ],
      "metadata": {
        "id": "BmOYCMvUpar3"
      },
      "execution_count": 26,
      "outputs": []
    },
    {
      "cell_type": "code",
      "source": [
        "# 아래 복붙\n",
        "import pandas as pd\n",
        "from sklearn.preprocessing import OneHotEncoder\n",
        "from sklearn.model_selection import train_test_split\n",
        "from sklearn.model_selection import cross_val_score\n",
        "from sklearn.model_selection import KFold\n",
        "from lightgbm import LGBMClassifier\n",
        "df = pd.read_csv(f\"{DATA_PATH}titanic.csv\")\n",
        "# 결측치 미리 채우기\n",
        "df.age = df.age.fillna(df.age.median()) # age 중앙값\n",
        "df.fare = df.fare.fillna(df.fare.median()) # fare 중앙값\n",
        "df.cabin = df.cabin.fillna(\"UNK\") # cabin 임의의 문자열로 채우기\n",
        "df.embarked = df.embarked.fillna(df.embarked.mode()[0]) # embarked 최빈값\n",
        "# 학습에 바로 사용가능한 특성\n",
        "cols = [\"pclass\",\"age\",\"sibsp\",\"parch\",\"fare\"]\n",
        "features = df[cols]\n",
        "# 범주형 one-hot encoding\n",
        "cols = [\"gender\",\"embarked\"]\n",
        "enc = OneHotEncoder()\n",
        "tmp = pd.DataFrame(\n",
        "    enc.fit_transform(df[cols]).toarray(),\n",
        "    columns = enc.get_feature_names_out()\n",
        ")\n",
        "features = pd.concat([features,tmp],axis=1) # 특성\n",
        "target = df[\"survived\"].to_numpy() # 정답값\n",
        "# 스케일링\n",
        "from sklearn.preprocessing import MinMaxScaler\n",
        "scaler = MinMaxScaler()\n",
        "features = scaler.fit_transform(features)\n",
        "SEED = 42\n",
        "# 학습 검증 나누기\n",
        "from sklearn.model_selection import train_test_split\n",
        "x_train, x_valid, y_train, y_valid = train_test_split(features, target, random_state=SEED)\n",
        "x_train.shape, x_valid.shape, y_train.shape, y_valid.shape"
      ],
      "metadata": {
        "colab": {
          "base_uri": "https://localhost:8080/"
        },
        "id": "KmaV0l-_nvYC",
        "outputId": "e92f78ce-b76c-40fe-b5dc-06fd4d25f043"
      },
      "execution_count": 27,
      "outputs": [
        {
          "output_type": "execute_result",
          "data": {
            "text/plain": [
              "((981, 10), (328, 10), (981,), (328,))"
            ]
          },
          "metadata": {},
          "execution_count": 27
        }
      ]
    },
    {
      "cell_type": "markdown",
      "source": [
        "# Dataset 와 DataLoader\n",
        "- torch.utils.data.Dataset\n",
        "    - 학습데이터와 정답을 저장해서 인덱싱을 통해 반환하는 클래스\n",
        "- torch.utils.data.DataLoader\n",
        "    - Dataset의 데이터를 쉽게 접근 할수 있도록 iterable 한 객체를 만들어 준다."
      ],
      "metadata": {
        "id": "5YJFIqGJrUS-"
      }
    },
    {
      "cell_type": "code",
      "source": [
        "class TitanicDataset(torch.utils.data.Dataset):\n",
        "    def __init__(self,x,y = None):\n",
        "        self.x = x\n",
        "        self.y = y\n",
        "        if self.y is not None:\n",
        "            self.y = y.astype(\"float32\").reshape(-1,1)\n",
        "    def __len__(self):\n",
        "        return self.x.shape[0]\n",
        "    def __getitem__(self,idx):\n",
        "        item = {}\n",
        "        item[\"x\"] = torch.Tensor(self.x[idx])\n",
        "        if self.y is not None:\n",
        "            item[\"y\"] = torch.Tensor(self.y[idx])\n",
        "        return item"
      ],
      "metadata": {
        "id": "DzjKIOdPq4Zx"
      },
      "execution_count": 28,
      "outputs": []
    },
    {
      "cell_type": "code",
      "source": [
        "train_dt = TitanicDataset(x_train,y_train)\n",
        "train_dt"
      ],
      "metadata": {
        "colab": {
          "base_uri": "https://localhost:8080/"
        },
        "id": "g23E8cgtq4Wq",
        "outputId": "dbe9952b-19e6-4cd7-e577-dd7b96a33f34"
      },
      "execution_count": 29,
      "outputs": [
        {
          "output_type": "execute_result",
          "data": {
            "text/plain": [
              "<__main__.TitanicDataset at 0x7f99fbf02f10>"
            ]
          },
          "metadata": {},
          "execution_count": 29
        }
      ]
    },
    {
      "cell_type": "code",
      "source": [
        "train_dt[0]"
      ],
      "metadata": {
        "colab": {
          "base_uri": "https://localhost:8080/"
        },
        "id": "Hy2HwDCfq4T5",
        "outputId": "82c62ac1-9711-4c07-eb38-31cbb71d2473"
      },
      "execution_count": 30,
      "outputs": [
        {
          "output_type": "execute_result",
          "data": {
            "text/plain": [
              "{'x': tensor([0.5000, 0.3611, 0.1250, 0.0000, 0.0507, 1.0000, 0.0000, 0.0000, 0.0000,\n",
              "         1.0000]), 'y': tensor([1.])}"
            ]
          },
          "metadata": {},
          "execution_count": 30
        }
      ]
    },
    {
      "cell_type": "code",
      "source": [
        "train_dl = torch.utils.data.DataLoader(train_dt,batch_size=2,shuffle=False)\n",
        "train_dl"
      ],
      "metadata": {
        "colab": {
          "base_uri": "https://localhost:8080/"
        },
        "id": "BOMB2F_Aq4RJ",
        "outputId": "ca9ba41d-22fe-4a6e-a214-fdb5b3318703"
      },
      "execution_count": 31,
      "outputs": [
        {
          "output_type": "execute_result",
          "data": {
            "text/plain": [
              "<torch.utils.data.dataloader.DataLoader at 0x7f99e96dc910>"
            ]
          },
          "metadata": {},
          "execution_count": 31
        }
      ]
    },
    {
      "cell_type": "code",
      "source": [
        "next(iter(train_dl))"
      ],
      "metadata": {
        "colab": {
          "base_uri": "https://localhost:8080/"
        },
        "id": "IJXaOJ5Iq4OL",
        "outputId": "7b94afad-31b8-4a94-f9d0-d21469af5334"
      },
      "execution_count": 32,
      "outputs": [
        {
          "output_type": "execute_result",
          "data": {
            "text/plain": [
              "{'x': tensor([[0.5000, 0.3611, 0.1250, 0.0000, 0.0507, 1.0000, 0.0000, 0.0000, 0.0000,\n",
              "          1.0000],\n",
              "         [1.0000, 0.5365, 0.1250, 0.6667, 0.0915, 1.0000, 0.0000, 0.0000, 0.0000,\n",
              "          1.0000]]), 'y': tensor([[1.],\n",
              "         [0.]])}"
            ]
          },
          "metadata": {},
          "execution_count": 32
        }
      ]
    },
    {
      "cell_type": "markdown",
      "source": [
        "# 모델 계층(Layer) 정의해보기\n",
        "- torch.nn.Linear\n",
        "    - 가중치와 편향을 사용해서 입력에 대해 선형변환\n",
        "    - in_features\n",
        "        - 입력값의 개수\n",
        "    - out_features\n",
        "        - 출력값의 개수"
      ],
      "metadata": {
        "id": "Uk5hYNQO0JHu"
      }
    },
    {
      "cell_type": "code",
      "source": [
        "x_train.shape[1]"
      ],
      "metadata": {
        "colab": {
          "base_uri": "https://localhost:8080/"
        },
        "id": "EW0mFp9w1jCb",
        "outputId": "be9755d0-4ae3-478c-a8e8-dbb58732b107"
      },
      "execution_count": 33,
      "outputs": [
        {
          "output_type": "execute_result",
          "data": {
            "text/plain": [
              "10"
            ]
          },
          "metadata": {},
          "execution_count": 33
        }
      ]
    },
    {
      "cell_type": "code",
      "source": [
        "torch.manual_seed(SEED)\n",
        "torch.cuda.manual_seed(SEED)\n",
        "\n",
        "input_layer = torch.nn.Linear(x_train.shape[1],1)\n",
        "data = next(iter(train_dl))\n",
        "\n",
        "hidden_layer = input_layer(data[\"x\"])\n",
        "hidden_layer"
      ],
      "metadata": {
        "colab": {
          "base_uri": "https://localhost:8080/"
        },
        "id": "dUHgAPCLq4L1",
        "outputId": "b4de908b-e226-48ab-9fdd-618e2a6c7879"
      },
      "execution_count": 34,
      "outputs": [
        {
          "output_type": "execute_result",
          "data": {
            "text/plain": [
              "tensor([[0.3096],\n",
              "        [0.6673]], grad_fn=<AddmmBackward0>)"
            ]
          },
          "metadata": {},
          "execution_count": 34
        }
      ]
    },
    {
      "cell_type": "markdown",
      "source": [
        "# 모델 만들기\n",
        "- Pytorch 에서 신경망 모델은 torch.nn.Module 을 상속받아서 클래스를 생성해서 정의\n",
        "- `__init__` 메소드에서는 신경망의 계층들을 정의\n",
        "- `forward` 메소드에서는 신경망에서 텐서를 어떻게 전달할지를 지정"
      ],
      "metadata": {
        "id": "xNTAfCoR2xjW"
      }
    },
    {
      "cell_type": "code",
      "source": [
        "class LogisticRegression(torch.nn.Module):\n",
        "    def __init__(self,in_features):\n",
        "        super().__init__()\n",
        "        self.hidden_layer = torch.nn.Linear(in_features,1)\n",
        "        # self.sig = torch.nn.Sigmoid()\n",
        "    def forward(self,x):\n",
        "        x = self.hidden_layer(x)\n",
        "        # x = self.sig(x)\n",
        "        return x"
      ],
      "metadata": {
        "id": "oDdZ7pJF2wVw"
      },
      "execution_count": 35,
      "outputs": []
    },
    {
      "cell_type": "code",
      "source": [
        "model = LogisticRegression(x_train.shape[1])\n",
        "model(data[\"x\"])"
      ],
      "metadata": {
        "colab": {
          "base_uri": "https://localhost:8080/"
        },
        "id": "bXIASjnO2wSj",
        "outputId": "10e2448d-dc39-4469-9a60-a32131e16a2e"
      },
      "execution_count": 36,
      "outputs": [
        {
          "output_type": "execute_result",
          "data": {
            "text/plain": [
              "tensor([[0.0070],\n",
              "        [0.2196]], grad_fn=<AddmmBackward0>)"
            ]
          },
          "metadata": {},
          "execution_count": 36
        }
      ]
    },
    {
      "cell_type": "markdown",
      "source": [
        "# 모델 학습"
      ],
      "metadata": {
        "id": "OfOZY19daSR3"
      }
    },
    {
      "cell_type": "code",
      "source": [
        "batch_size = 32 # 미니 배치 사이즈"
      ],
      "metadata": {
        "id": "h1K1L5BYq4JB"
      },
      "execution_count": 37,
      "outputs": []
    },
    {
      "cell_type": "markdown",
      "source": [
        "- 손실함수 객체 생성"
      ],
      "metadata": {
        "id": "JXA9VT9KaftO"
      }
    },
    {
      "cell_type": "code",
      "source": [
        "loss_fn = torch.nn.BCEWithLogitsLoss() # 모델 출력에 시그모이드함수를 통과시켜 BCE 계산"
      ],
      "metadata": {
        "id": "LCRhsVeUacuY"
      },
      "execution_count": 38,
      "outputs": []
    },
    {
      "cell_type": "markdown",
      "source": [
        "- 모델 객체 생성"
      ],
      "metadata": {
        "id": "Dr0JMI9ebFf7"
      }
    },
    {
      "cell_type": "code",
      "source": [
        "model = LogisticRegression(x_train.shape[1]).to(device)"
      ],
      "metadata": {
        "id": "Qwfe-RQ1acsB"
      },
      "execution_count": 39,
      "outputs": []
    },
    {
      "cell_type": "markdown",
      "source": [
        "- optimizer 객체 생성"
      ],
      "metadata": {
        "id": "KCa-W6f_bZ1q"
      }
    },
    {
      "cell_type": "code",
      "source": [
        "optimizer = torch.optim.Adam(model.parameters(),lr=0.001)"
      ],
      "metadata": {
        "id": "UvU2r74cacnp"
      },
      "execution_count": 40,
      "outputs": []
    },
    {
      "cell_type": "markdown",
      "source": [
        "- 학습데이터 객체 생성"
      ],
      "metadata": {
        "id": "nb5I_dQtb87C"
      }
    },
    {
      "cell_type": "code",
      "source": [
        "train_dt = TitanicDataset(x_train,y_train)\n",
        "train_dl = torch.utils.data.DataLoader(train_dt,batch_size=batch_size,shuffle=True)"
      ],
      "metadata": {
        "id": "_e8QvJDuq4GI"
      },
      "execution_count": 41,
      "outputs": []
    },
    {
      "cell_type": "markdown",
      "source": [
        "- 학습하기"
      ],
      "metadata": {
        "id": "lobJ51cEcpof"
      }
    },
    {
      "cell_type": "code",
      "source": [
        "model.train()\n",
        "\n",
        "epoch_loss = 0\n",
        "for batch in train_dl:\n",
        "    pred = model(batch[\"x\"].to(device))\n",
        "    loss = loss_fn(pred,batch[\"y\"].to(device))\n",
        "\n",
        "    optimizer.zero_grad()\n",
        "    loss.backward()\n",
        "    optimizer.step()\n",
        "\n",
        "    epoch_loss += loss.item()\n",
        "    \n",
        "epoch_loss /= len(train_dl)\n",
        "\n",
        "print(f\"epoch loss: {epoch_loss}\")"
      ],
      "metadata": {
        "colab": {
          "base_uri": "https://localhost:8080/"
        },
        "id": "qW-Wj9kWcE8z",
        "outputId": "fa75e142-9a72-4b36-b43b-a42630a94947"
      },
      "execution_count": 42,
      "outputs": [
        {
          "output_type": "stream",
          "name": "stdout",
          "text": [
            "epoch loss: 0.7615217739535917\n"
          ]
        }
      ]
    },
    {
      "cell_type": "markdown",
      "source": [
        "- 학습 loop 함수화"
      ],
      "metadata": {
        "id": "XIHhT_tahlf5"
      }
    },
    {
      "cell_type": "code",
      "source": [
        "def train_loop(train_dl,model,loss_fn,optimizer,device):\n",
        "    model.train()\n",
        "    epoch_loss = 0\n",
        "    for batch in train_dl:\n",
        "        pred = model(batch[\"x\"].to(device))\n",
        "        loss = loss_fn(pred,batch[\"y\"].to(device))\n",
        "\n",
        "        optimizer.zero_grad()\n",
        "        loss.backward()\n",
        "        optimizer.step()\n",
        "\n",
        "        epoch_loss += loss.item()\n",
        "        \n",
        "    epoch_loss /= len(train_dl)\n",
        "    return epoch_loss"
      ],
      "metadata": {
        "id": "uZESCJCfhlSD"
      },
      "execution_count": 43,
      "outputs": []
    },
    {
      "cell_type": "code",
      "source": [
        "train_loop(train_dl,model,loss_fn,optimizer,device)"
      ],
      "metadata": {
        "colab": {
          "base_uri": "https://localhost:8080/"
        },
        "id": "igq-TGOShlO9",
        "outputId": "03129128-5b46-44b8-d7c4-f28e802fb913"
      },
      "execution_count": 44,
      "outputs": [
        {
          "output_type": "execute_result",
          "data": {
            "text/plain": [
              "0.7423399283039954"
            ]
          },
          "metadata": {},
          "execution_count": 44
        }
      ]
    },
    {
      "cell_type": "markdown",
      "source": [
        "- 검증셋에 대한 평가 loop 함수화"
      ],
      "metadata": {
        "id": "Tsu_D5XeiyyA"
      }
    },
    {
      "cell_type": "code",
      "source": [
        "@torch.no_grad()\n",
        "def test_loop(dataloader,model,loss_fn,device):\n",
        "    epoch_loss = 0\n",
        "    model.eval()\n",
        "\n",
        "    for batch in dataloader:\n",
        "        pred = model(batch[\"x\"].to(device))\n",
        "        loss = loss_fn(pred,batch[\"y\"].to(device))\n",
        "        epoch_loss += loss.item()\n",
        "            \n",
        "    epoch_loss /= len(dataloader)\n",
        "    return epoch_loss"
      ],
      "metadata": {
        "id": "1OI5mfpBhlLr"
      },
      "execution_count": 45,
      "outputs": []
    },
    {
      "cell_type": "code",
      "source": [
        "valid_dt = TitanicDataset(x_valid,y_valid)\n",
        "valid_dl = torch.utils.data.DataLoader(valid_dt,batch_size=batch_size,shuffle=False)"
      ],
      "metadata": {
        "id": "2L4dkEnsnqxv"
      },
      "execution_count": 46,
      "outputs": []
    },
    {
      "cell_type": "code",
      "source": [
        "test_loop(valid_dl,model,loss_fn,device)"
      ],
      "metadata": {
        "colab": {
          "base_uri": "https://localhost:8080/"
        },
        "id": "zvAZLMCinqvE",
        "outputId": "94ac2e84-9eeb-4236-cf10-fabd23325671"
      },
      "execution_count": 47,
      "outputs": [
        {
          "output_type": "execute_result",
          "data": {
            "text/plain": [
              "0.7517904259941794"
            ]
          },
          "metadata": {},
          "execution_count": 47
        }
      ]
    },
    {
      "cell_type": "markdown",
      "source": [
        "- 검증평가 뿐만 아니라 테스트데이터에 대한 예측만 해야하는 상황이라면?"
      ],
      "metadata": {
        "id": "bsUcEVYSpbPl"
      }
    },
    {
      "cell_type": "code",
      "source": [
        "@torch.no_grad()\n",
        "def test_loop(dataloader,model,loss_fn,device):\n",
        "    epoch_loss = 0\n",
        "    model.eval()\n",
        "\n",
        "    pred_list = []\n",
        "    sig = torch.nn.Sigmoid()\n",
        "\n",
        "    for batch in dataloader:\n",
        "        pred = model(batch[\"x\"].to(device))\n",
        "\n",
        "        if batch.get(\"y\") is not None: # y값이 있을 경우만 loss 계산\n",
        "            loss = loss_fn(pred,batch[\"y\"].to(device))\n",
        "            epoch_loss += loss.item()\n",
        "        \n",
        "        pred = sig(pred) # 시그모이드 함수 통과, 0 ~ 1 확률값으로 변경\n",
        "        pred = pred.to(\"cpu\").numpy() # cpu 이동후 numpy 변환\n",
        "        pred_list.append(pred)\n",
        "\n",
        "    epoch_loss /= len(dataloader)\n",
        "\n",
        "    pred = np.concatenate(pred_list)\n",
        "\n",
        "    return epoch_loss,pred"
      ],
      "metadata": {
        "id": "TsOrxIPBnqsM"
      },
      "execution_count": 48,
      "outputs": []
    },
    {
      "cell_type": "code",
      "source": [
        "x_test = x_valid.copy() # 테스트 데이터라고 가정하고 복사"
      ],
      "metadata": {
        "id": "Qcjdk5Q6nqlq"
      },
      "execution_count": 49,
      "outputs": []
    },
    {
      "cell_type": "code",
      "source": [
        "test_dt = TitanicDataset(x_test)\n",
        "test_dl = torch.utils.data.DataLoader(test_dt,batch_size=batch_size,shuffle=False)\n",
        "\n",
        "_,pred = test_loop(test_dl,model,loss_fn,device)\n",
        "pred"
      ],
      "metadata": {
        "colab": {
          "base_uri": "https://localhost:8080/"
        },
        "id": "gDnq3hKWcE3p",
        "outputId": "1be5fade-9778-4f1d-ea5f-7aeb052d6120"
      },
      "execution_count": 50,
      "outputs": [
        {
          "output_type": "execute_result",
          "data": {
            "text/plain": [
              "array([[0.43548584],\n",
              "       [0.50419056],\n",
              "       [0.43547758],\n",
              "       [0.46744052],\n",
              "       [0.37289846],\n",
              "       [0.26883337],\n",
              "       [0.37289846],\n",
              "       [0.35799813],\n",
              "       [0.31267574],\n",
              "       [0.36820227],\n",
              "       [0.43127477],\n",
              "       [0.43652943],\n",
              "       [0.4395618 ],\n",
              "       [0.3198314 ],\n",
              "       [0.43592188],\n",
              "       [0.35671872],\n",
              "       [0.37021402],\n",
              "       [0.4354708 ],\n",
              "       [0.40801257],\n",
              "       [0.44177526],\n",
              "       [0.4711563 ],\n",
              "       [0.4391496 ],\n",
              "       [0.42718893],\n",
              "       [0.42771393],\n",
              "       [0.4407235 ],\n",
              "       [0.45517012],\n",
              "       [0.43339115],\n",
              "       [0.43762025],\n",
              "       [0.46477994],\n",
              "       [0.32468432],\n",
              "       [0.43568015],\n",
              "       [0.36222067],\n",
              "       [0.3728993 ],\n",
              "       [0.4301358 ],\n",
              "       [0.4976283 ],\n",
              "       [0.4899348 ],\n",
              "       [0.37889856],\n",
              "       [0.3114683 ],\n",
              "       [0.43548125],\n",
              "       [0.32646543],\n",
              "       [0.5025921 ],\n",
              "       [0.33414972],\n",
              "       [0.37290213],\n",
              "       [0.4286808 ],\n",
              "       [0.44236574],\n",
              "       [0.46511748],\n",
              "       [0.42158246],\n",
              "       [0.36934462],\n",
              "       [0.37289846],\n",
              "       [0.3620326 ],\n",
              "       [0.37739867],\n",
              "       [0.33514825],\n",
              "       [0.4349537 ],\n",
              "       [0.47872564],\n",
              "       [0.349303  ],\n",
              "       [0.48993728],\n",
              "       [0.43915334],\n",
              "       [0.32541928],\n",
              "       [0.44062513],\n",
              "       [0.42814994],\n",
              "       [0.5084526 ],\n",
              "       [0.4899348 ],\n",
              "       [0.40815872],\n",
              "       [0.3190734 ],\n",
              "       [0.3355198 ],\n",
              "       [0.5119223 ],\n",
              "       [0.30363154],\n",
              "       [0.34669045],\n",
              "       [0.43391088],\n",
              "       [0.48404935],\n",
              "       [0.43548125],\n",
              "       [0.50238544],\n",
              "       [0.38418955],\n",
              "       [0.43440565],\n",
              "       [0.47679   ],\n",
              "       [0.49866167],\n",
              "       [0.37165326],\n",
              "       [0.43338737],\n",
              "       [0.39098918],\n",
              "       [0.4728841 ],\n",
              "       [0.40015203],\n",
              "       [0.43545574],\n",
              "       [0.44913426],\n",
              "       [0.4605496 ],\n",
              "       [0.43757698],\n",
              "       [0.43548125],\n",
              "       [0.4800082 ],\n",
              "       [0.47759345],\n",
              "       [0.35072693],\n",
              "       [0.37433127],\n",
              "       [0.37289846],\n",
              "       [0.51190704],\n",
              "       [0.43476462],\n",
              "       [0.26385108],\n",
              "       [0.4350056 ],\n",
              "       [0.3413148 ],\n",
              "       [0.43755275],\n",
              "       [0.51178455],\n",
              "       [0.35690072],\n",
              "       [0.32193512],\n",
              "       [0.43860433],\n",
              "       [0.43267074],\n",
              "       [0.43545425],\n",
              "       [0.35061142],\n",
              "       [0.32164198],\n",
              "       [0.3726153 ],\n",
              "       [0.3381732 ],\n",
              "       [0.4925685 ],\n",
              "       [0.44510835],\n",
              "       [0.37289846],\n",
              "       [0.46783704],\n",
              "       [0.3481443 ],\n",
              "       [0.37289846],\n",
              "       [0.42399538],\n",
              "       [0.33891323],\n",
              "       [0.4343613 ],\n",
              "       [0.3734007 ],\n",
              "       [0.30932048],\n",
              "       [0.43286783],\n",
              "       [0.37536448],\n",
              "       [0.42344517],\n",
              "       [0.3575136 ],\n",
              "       [0.37432286],\n",
              "       [0.375341  ],\n",
              "       [0.43355152],\n",
              "       [0.26191267],\n",
              "       [0.31702122],\n",
              "       [0.51259905],\n",
              "       [0.4418274 ],\n",
              "       [0.33041108],\n",
              "       [0.37529913],\n",
              "       [0.33447823],\n",
              "       [0.42550647],\n",
              "       [0.35523534],\n",
              "       [0.47381246],\n",
              "       [0.43448186],\n",
              "       [0.35591498],\n",
              "       [0.43843397],\n",
              "       [0.37932786],\n",
              "       [0.43705463],\n",
              "       [0.4899348 ],\n",
              "       [0.2652999 ],\n",
              "       [0.51078373],\n",
              "       [0.44178358],\n",
              "       [0.4317916 ],\n",
              "       [0.27519158],\n",
              "       [0.41068816],\n",
              "       [0.3304327 ],\n",
              "       [0.37532187],\n",
              "       [0.42209062],\n",
              "       [0.4370343 ],\n",
              "       [0.5083254 ],\n",
              "       [0.43548125],\n",
              "       [0.4993951 ],\n",
              "       [0.27111188],\n",
              "       [0.33614284],\n",
              "       [0.4598863 ],\n",
              "       [0.33400548],\n",
              "       [0.43704635],\n",
              "       [0.31615683],\n",
              "       [0.47107998],\n",
              "       [0.37532178],\n",
              "       [0.43602833],\n",
              "       [0.36753756],\n",
              "       [0.43861628],\n",
              "       [0.42607167],\n",
              "       [0.43809986],\n",
              "       [0.377632  ],\n",
              "       [0.43522227],\n",
              "       [0.4899348 ],\n",
              "       [0.36991674],\n",
              "       [0.32427007],\n",
              "       [0.4336384 ],\n",
              "       [0.36036962],\n",
              "       [0.51164836],\n",
              "       [0.40918887],\n",
              "       [0.3154021 ],\n",
              "       [0.37219188],\n",
              "       [0.4936659 ],\n",
              "       [0.4356233 ],\n",
              "       [0.43548584],\n",
              "       [0.4899348 ],\n",
              "       [0.3255464 ],\n",
              "       [0.33509845],\n",
              "       [0.32431486],\n",
              "       [0.43547758],\n",
              "       [0.48405376],\n",
              "       [0.4736782 ],\n",
              "       [0.31602153],\n",
              "       [0.4354708 ],\n",
              "       [0.47479898],\n",
              "       [0.37839663],\n",
              "       [0.4365903 ],\n",
              "       [0.42427507],\n",
              "       [0.45095786],\n",
              "       [0.44075108],\n",
              "       [0.3598333 ],\n",
              "       [0.37289846],\n",
              "       [0.4732811 ],\n",
              "       [0.5116292 ],\n",
              "       [0.42749384],\n",
              "       [0.32490587],\n",
              "       [0.3428022 ],\n",
              "       [0.4716111 ],\n",
              "       [0.29583988],\n",
              "       [0.4297274 ],\n",
              "       [0.47420958],\n",
              "       [0.43762136],\n",
              "       [0.4347695 ],\n",
              "       [0.43940008],\n",
              "       [0.47434387],\n",
              "       [0.4086376 ],\n",
              "       [0.5176229 ],\n",
              "       [0.426343  ],\n",
              "       [0.46723914],\n",
              "       [0.43278703],\n",
              "       [0.33134124],\n",
              "       [0.36079842],\n",
              "       [0.43602833],\n",
              "       [0.51164836],\n",
              "       [0.4412765 ],\n",
              "       [0.37046114],\n",
              "       [0.4460861 ],\n",
              "       [0.37290955],\n",
              "       [0.4365258 ],\n",
              "       [0.34666976],\n",
              "       [0.4616088 ],\n",
              "       [0.37932795],\n",
              "       [0.46895632],\n",
              "       [0.43495607],\n",
              "       [0.27421373],\n",
              "       [0.42759517],\n",
              "       [0.4107651 ],\n",
              "       [0.3983305 ],\n",
              "       [0.35935315],\n",
              "       [0.46903256],\n",
              "       [0.35824364],\n",
              "       [0.4728841 ],\n",
              "       [0.32658753],\n",
              "       [0.4292043 ],\n",
              "       [0.50044394],\n",
              "       [0.48833653],\n",
              "       [0.43495825],\n",
              "       [0.4123047 ],\n",
              "       [0.43338737],\n",
              "       [0.31203598],\n",
              "       [0.47060314],\n",
              "       [0.43705076],\n",
              "       [0.35158256],\n",
              "       [0.3117158 ],\n",
              "       [0.49427977],\n",
              "       [0.3728981 ],\n",
              "       [0.47385198],\n",
              "       [0.39826697],\n",
              "       [0.30668637],\n",
              "       [0.32274485],\n",
              "       [0.44317698],\n",
              "       [0.50738215],\n",
              "       [0.26385108],\n",
              "       [0.37187928],\n",
              "       [0.35157466],\n",
              "       [0.35939562],\n",
              "       [0.3432984 ],\n",
              "       [0.46845293],\n",
              "       [0.37589374],\n",
              "       [0.32776892],\n",
              "       [0.31902608],\n",
              "       [0.44109392],\n",
              "       [0.38268387],\n",
              "       [0.4899103 ],\n",
              "       [0.43814296],\n",
              "       [0.43352023],\n",
              "       [0.34666976],\n",
              "       [0.4509284 ],\n",
              "       [0.4728841 ],\n",
              "       [0.43441412],\n",
              "       [0.4143724 ],\n",
              "       [0.4404246 ],\n",
              "       [0.51176924],\n",
              "       [0.396322  ],\n",
              "       [0.43547156],\n",
              "       [0.50985473],\n",
              "       [0.4355043 ],\n",
              "       [0.46478856],\n",
              "       [0.4235778 ],\n",
              "       [0.43756622],\n",
              "       [0.42503092],\n",
              "       [0.49673092],\n",
              "       [0.31964877],\n",
              "       [0.31733948],\n",
              "       [0.4673916 ],\n",
              "       [0.4270486 ],\n",
              "       [0.37444106],\n",
              "       [0.37757322],\n",
              "       [0.38034046],\n",
              "       [0.450522  ],\n",
              "       [0.37889808],\n",
              "       [0.3229941 ],\n",
              "       [0.43187547],\n",
              "       [0.3114683 ],\n",
              "       [0.39123285],\n",
              "       [0.35619268],\n",
              "       [0.34516266],\n",
              "       [0.4899348 ],\n",
              "       [0.43027195],\n",
              "       [0.3379482 ],\n",
              "       [0.46580026],\n",
              "       [0.3295521 ],\n",
              "       [0.47275877],\n",
              "       [0.51046884],\n",
              "       [0.46680328],\n",
              "       [0.3731137 ],\n",
              "       [0.44184995],\n",
              "       [0.37289846],\n",
              "       [0.47221857],\n",
              "       [0.4386276 ],\n",
              "       [0.37581468],\n",
              "       [0.30725425],\n",
              "       [0.43757826],\n",
              "       [0.31267574],\n",
              "       [0.32321426],\n",
              "       [0.37391037],\n",
              "       [0.4211513 ],\n",
              "       [0.384927  ],\n",
              "       [0.3363787 ],\n",
              "       [0.3377679 ],\n",
              "       [0.43569824],\n",
              "       [0.26402038]], dtype=float32)"
            ]
          },
          "metadata": {},
          "execution_count": 50
        }
      ]
    },
    {
      "cell_type": "markdown",
      "source": [
        "# 10에폭 학습 하고 검증평가해보기"
      ],
      "metadata": {
        "id": "xy-OQzDrtPn7"
      }
    },
    {
      "cell_type": "code",
      "source": [
        "epochs = 10\n",
        "for epoch in range(epochs):\n",
        "    print(f\"{epoch+1} epoch 시작\")\n",
        "    train_loss = train_loop(train_dl, model, loss_fn, optimizer, device)\n",
        "    valid_loss , pred = test_loop(valid_dl, model, loss_fn, device)\n",
        "    print(train_loss, valid_loss)"
      ],
      "metadata": {
        "colab": {
          "base_uri": "https://localhost:8080/"
        },
        "id": "emtdZ0pzcE1C",
        "outputId": "bdf3df9d-ac24-4255-d62c-4a6109b48470"
      },
      "execution_count": 51,
      "outputs": [
        {
          "output_type": "stream",
          "name": "stdout",
          "text": [
            "1 epoch 시작\n",
            "0.7284330033486889 0.7388763644478538\n",
            "2 epoch 시작\n",
            "0.7147180226541334 0.7264711911028082\n",
            "3 epoch 시작\n",
            "0.7007835603529408 0.7149528319185431\n",
            "4 epoch 시작\n",
            "0.6898600939781435 0.7038845907558094\n",
            "5 epoch 시작\n",
            "0.6781554568198419 0.6928930553522977\n",
            "6 epoch 시작\n",
            "0.6673279058548712 0.682576445015994\n",
            "7 epoch 시작\n",
            "0.6592964856855331 0.6726287711750377\n",
            "8 epoch 시작\n",
            "0.6484159096594779 0.6627776189283892\n",
            "9 epoch 시작\n",
            "0.6379899747910038 0.6531625660982999\n",
            "10 epoch 시작\n",
            "0.6300130005805723 0.6440484957261519\n"
          ]
        }
      ]
    },
    {
      "cell_type": "code",
      "source": [
        "from sklearn.metrics import roc_auc_score\n",
        "roc_auc_score(y_valid,pred)"
      ],
      "metadata": {
        "colab": {
          "base_uri": "https://localhost:8080/"
        },
        "id": "XQ548U1zuepJ",
        "outputId": "d25bd551-5427-4790-e644-48ff8fb20613"
      },
      "execution_count": 52,
      "outputs": [
        {
          "output_type": "execute_result",
          "data": {
            "text/plain": [
              "0.7694036501724338"
            ]
          },
          "metadata": {},
          "execution_count": 52
        }
      ]
    },
    {
      "cell_type": "markdown",
      "source": [
        "# 정리해보자"
      ],
      "metadata": {
        "id": "6o24zZhru1Uw"
      }
    },
    {
      "cell_type": "markdown",
      "source": [
        "## dataset 정의"
      ],
      "metadata": {
        "id": "h1K58Wl7u6m4"
      }
    },
    {
      "cell_type": "code",
      "source": [
        "class TitanicDataset(torch.utils.data.Dataset):\n",
        "    def __init__(self,x,y = None):\n",
        "        self.x = x\n",
        "        self.y = y\n",
        "        if self.y is not None:\n",
        "            self.y = y.astype(\"float32\").reshape(-1,1)\n",
        "    def __len__(self):\n",
        "        return self.x.shape[0]\n",
        "    def __getitem__(self,idx):\n",
        "        item = {}\n",
        "        item[\"x\"] = torch.Tensor(self.x[idx])\n",
        "        if self.y is not None:\n",
        "            item[\"y\"] = torch.Tensor(self.y[idx])\n",
        "        return item"
      ],
      "metadata": {
        "id": "dAhNr9A6uemS"
      },
      "execution_count": 53,
      "outputs": []
    },
    {
      "cell_type": "markdown",
      "source": [
        "## 모델 정의"
      ],
      "metadata": {
        "id": "0qnq5mNWvJPw"
      }
    },
    {
      "cell_type": "code",
      "source": [
        "class LogisticRegression(torch.nn.Module):\n",
        "    def __init__(self,in_features):\n",
        "        super().__init__()\n",
        "        self.hidden_layer = torch.nn.Linear(in_features,1)\n",
        "        # self.sig = torch.nn.Sigmoid()\n",
        "    def forward(self,x):\n",
        "        x = self.hidden_layer(x)\n",
        "        # x = self.sig(x)\n",
        "        return x"
      ],
      "metadata": {
        "id": "pYL8r-Wtuejs"
      },
      "execution_count": 61,
      "outputs": []
    },
    {
      "cell_type": "markdown",
      "source": [
        "## 학습하는 함수 정의"
      ],
      "metadata": {
        "id": "2eywT75nvREb"
      }
    },
    {
      "cell_type": "code",
      "source": [
        "def train_loop(train_dl,model,loss_fn,optimizer,device):\n",
        "    model.train()\n",
        "    epoch_loss = 0\n",
        "    for batch in train_dl:\n",
        "        pred = model(batch[\"x\"].to(device))\n",
        "        loss = loss_fn(pred,batch[\"y\"].to(device))\n",
        "\n",
        "        optimizer.zero_grad()\n",
        "        loss.backward()\n",
        "        optimizer.step()\n",
        "\n",
        "        epoch_loss += loss.item()\n",
        "        \n",
        "    epoch_loss /= len(train_dl)\n",
        "    return epoch_loss"
      ],
      "metadata": {
        "id": "hSqMPTYfuehF"
      },
      "execution_count": 55,
      "outputs": []
    },
    {
      "cell_type": "markdown",
      "source": [
        "## 평가 or 예측 하는 함수정의"
      ],
      "metadata": {
        "id": "R5tNL-ePvehc"
      }
    },
    {
      "cell_type": "code",
      "source": [
        "@torch.no_grad()\n",
        "def test_loop(dataloader,model,loss_fn,device):\n",
        "    epoch_loss = 0\n",
        "    model.eval()\n",
        "\n",
        "    pred_list = []\n",
        "    sig = torch.nn.Sigmoid()\n",
        "\n",
        "    for batch in dataloader:\n",
        "        pred = model(batch[\"x\"].to(device))\n",
        "\n",
        "        if batch.get(\"y\") is not None: # y값이 있을 경우만 loss 계산\n",
        "            loss = loss_fn(pred,batch[\"y\"].to(device))\n",
        "            epoch_loss += loss.item()\n",
        "        \n",
        "        pred = sig(pred) # 시그모이드 함수 통과, 0 ~ 1 확률값으로 변경\n",
        "        pred = pred.to(\"cpu\").numpy() # cpu 이동후 numpy 변환\n",
        "        pred_list.append(pred)\n",
        "\n",
        "    epoch_loss /= len(dataloader)\n",
        "\n",
        "    pred = np.concatenate(pred_list)\n",
        "\n",
        "    return epoch_loss,pred"
      ],
      "metadata": {
        "id": "K65mVuQCuee1"
      },
      "execution_count": 56,
      "outputs": []
    },
    {
      "cell_type": "markdown",
      "source": [
        "## 학습에 필요한 손실과 최적화등 하이퍼 파라미터 정의"
      ],
      "metadata": {
        "id": "KX9afLlSvrrm"
      }
    },
    {
      "cell_type": "code",
      "source": [
        "loss_fn = torch.nn.BCEWithLogitsLoss()\n",
        "epoch = 1000\n",
        "batch_size = 32\n",
        "num_features = x_train.shape[1]"
      ],
      "metadata": {
        "id": "W0obSpOPvo6o"
      },
      "execution_count": 66,
      "outputs": []
    },
    {
      "cell_type": "code",
      "source": [
        "from sklearn.model_selection import KFold\n",
        "cv = KFold(n_splits=5,shuffle=True,random_state=SEED)"
      ],
      "metadata": {
        "id": "kPipHAKkvo3j"
      },
      "execution_count": 67,
      "outputs": []
    },
    {
      "cell_type": "code",
      "source": [
        "features.shape , target.shape"
      ],
      "metadata": {
        "colab": {
          "base_uri": "https://localhost:8080/"
        },
        "id": "ERxwHGZjvo08",
        "outputId": "b554dc47-71fc-48ac-83a7-d2b728ede58e"
      },
      "execution_count": 68,
      "outputs": [
        {
          "output_type": "execute_result",
          "data": {
            "text/plain": [
              "((1309, 10), (1309,))"
            ]
          },
          "metadata": {},
          "execution_count": 68
        }
      ]
    },
    {
      "cell_type": "markdown",
      "source": [
        "- 검증셋 평가 및 검증셋에 대한 AUC 개선이 없을 경우 조기 종료 조건주고 모델 가중치를 저장하기"
      ],
      "metadata": {
        "id": "fflEREnOYpB9"
      }
    },
    {
      "cell_type": "code",
      "source": [
        "is_holdout = False\n",
        "for i,(tri,vai) in enumerate(cv.split(features)):\n",
        "    # 학습데이터\n",
        "    x_train = features[tri]\n",
        "    y_train = target[tri]\n",
        "\n",
        "    # 검증데이터\n",
        "    x_valid = features[vai]\n",
        "    y_valid = target[vai]\n",
        "\n",
        "    model = LogisticRegression(num_features).to(device)\n",
        "    optimizer = torch.optim.Adam(model.parameters())\n",
        "\n",
        "    train_dt = TitanicDataset(x_train,y_train)\n",
        "    valid_dt = TitanicDataset(x_valid,y_valid)\n",
        "\n",
        "    train_dl = torch.utils.data.DataLoader(train_dt,batch_size=batch_size,shuffle=True)\n",
        "    valid_dl = torch.utils.data.DataLoader(valid_dt,batch_size=batch_size,shuffle=False)\n",
        "\n",
        "    \n",
        "\n",
        "    best_score = 0\n",
        "    patience = 0\n",
        "    for e in range(epoch):\n",
        "        train_loss = train_loop(train_dl, model, loss_fn, optimizer, device)\n",
        "        valid_loss,pred = test_loop(valid_dl, model, loss_fn, device)\n",
        "\n",
        "        score = roc_auc_score(y_valid,pred)\n",
        "        patience += 1\n",
        "        if best_score < score:\n",
        "            patience = 0\n",
        "            best_score = score\n",
        "            torch.save(model.state_dict(),f\"model_{i}.pth\")\n",
        "            \n",
        "        if patience == 5:\n",
        "            break\n",
        "    print(f\"{i} 번째 폴드 AUC: {best_score}\")\n",
        "\n",
        "    if is_holdout:\n",
        "        break"
      ],
      "metadata": {
        "id": "PerXcU8qwvtu",
        "colab": {
          "base_uri": "https://localhost:8080/"
        },
        "outputId": "ed9862f3-7da7-4d1f-e0be-a4b0a72923ba"
      },
      "execution_count": 72,
      "outputs": [
        {
          "output_type": "stream",
          "name": "stdout",
          "text": [
            "0 번째 폴드 AUC: 0.8837088599865666\n",
            "1 번째 폴드 AUC: 0.8919113955823293\n",
            "2 번째 폴드 AUC: 0.8824742268041237\n",
            "3 번째 폴드 AUC: 0.9097120098039215\n",
            "4 번째 폴드 AUC: 0.8888257575757577\n"
          ]
        }
      ]
    },
    {
      "cell_type": "code",
      "source": [
        "x_test.shape"
      ],
      "metadata": {
        "colab": {
          "base_uri": "https://localhost:8080/"
        },
        "id": "O83GRKlDeqC-",
        "outputId": "4a71e7be-0d95-44c5-b228-58fbc4d7be77"
      },
      "execution_count": 74,
      "outputs": [
        {
          "output_type": "execute_result",
          "data": {
            "text/plain": [
              "(328, 10)"
            ]
          },
          "metadata": {},
          "execution_count": 74
        }
      ]
    },
    {
      "cell_type": "markdown",
      "source": [
        "- 저장된 모델 불러오고 추론하기"
      ],
      "metadata": {
        "id": "yZAiJfm0e0yU"
      }
    },
    {
      "cell_type": "code",
      "source": [
        "test_dt = TitanicDataset(x_test)\n",
        "test_dl = torch.utils.data.DataLoader(test_dt,batch_size=batch_size,shuffle=False)"
      ],
      "metadata": {
        "id": "_aLLUqlDe5PM"
      },
      "execution_count": 76,
      "outputs": []
    },
    {
      "cell_type": "code",
      "source": [
        "pred_list = []\n",
        "for i in range(5):\n",
        "    model = LogisticRegression(num_features).to(device)\n",
        "    state_dict = torch.load(f\"model_{i}.pth\")\n",
        "    model.load_state_dict(state_dict)\n",
        "    _, pred = test_loop(test_dl,model,loss_fn,device)\n",
        "    pred_list.append(pred)\n",
        "pred = np.mean(pred_list, axis = 0)\n",
        "pred"
      ],
      "metadata": {
        "colab": {
          "base_uri": "https://localhost:8080/"
        },
        "id": "U5XM1M8he5Jv",
        "outputId": "eb5cad1c-6d2e-47e9-b673-9e81ee89ea9d"
      },
      "execution_count": 78,
      "outputs": [
        {
          "output_type": "execute_result",
          "data": {
            "text/plain": [
              "array([[0.19209309],\n",
              "       [0.2653097 ],\n",
              "       [0.19205579],\n",
              "       [0.22256497],\n",
              "       [0.59340984],\n",
              "       [0.61793673],\n",
              "       [0.59340984],\n",
              "       [0.6140162 ],\n",
              "       [0.5676948 ],\n",
              "       [0.24069309],\n",
              "       [0.18858854],\n",
              "       [0.1929297 ],\n",
              "       [0.32876956],\n",
              "       [0.7180167 ],\n",
              "       [0.19406572],\n",
              "       [0.62401533],\n",
              "       [0.5883368 ],\n",
              "       [0.19202532],\n",
              "       [0.2776894 ],\n",
              "       [0.1972495 ],\n",
              "       [0.2258862 ],\n",
              "       [0.19507463],\n",
              "       [0.19800892],\n",
              "       [0.1984699 ],\n",
              "       [0.1963723 ],\n",
              "       [0.4526525 ],\n",
              "       [0.1903877 ],\n",
              "       [0.19171485],\n",
              "       [0.22994776],\n",
              "       [0.55241024],\n",
              "       [0.19296941],\n",
              "       [0.61825466],\n",
              "       [0.5934164 ],\n",
              "       [0.2020663 ],\n",
              "       [0.29543576],\n",
              "       [0.21830778],\n",
              "       [0.60124093],\n",
              "       [0.5453297 ],\n",
              "       [0.19207218],\n",
              "       [0.59017694],\n",
              "       [0.26373625],\n",
              "       [0.5698945 ],\n",
              "       [0.5934391 ],\n",
              "       [0.18657194],\n",
              "       [0.36188242],\n",
              "       [0.21934755],\n",
              "       [0.1852561 ],\n",
              "       [0.23239915],\n",
              "       [0.59340984],\n",
              "       [0.6199337 ],\n",
              "       [0.59931755],\n",
              "       [0.7321283 ],\n",
              "       [0.1916283 ],\n",
              "       [0.25694284],\n",
              "       [0.6328163 ],\n",
              "       [0.2183197 ],\n",
              "       [0.1950918 ],\n",
              "       [0.5554354 ],\n",
              "       [0.20481892],\n",
              "       [0.18611541],\n",
              "       [0.2695424 ],\n",
              "       [0.21830778],\n",
              "       [0.6455726 ],\n",
              "       [0.54769856],\n",
              "       [0.72165763],\n",
              "       [0.27441305],\n",
              "       [0.70052016],\n",
              "       [0.62549484],\n",
              "       [0.19079596],\n",
              "       [0.2175825 ],\n",
              "       [0.19207218],\n",
              "       [0.26382682],\n",
              "       [0.24902701],\n",
              "       [0.19949777],\n",
              "       [0.24263184],\n",
              "       [0.26124674],\n",
              "       [0.5917715 ],\n",
              "       [0.19037086],\n",
              "       [0.69177175],\n",
              "       [0.22574523],\n",
              "       [0.6890804 ],\n",
              "       [0.1919576 ],\n",
              "       [0.33565563],\n",
              "       [0.21650681],\n",
              "       [0.1937848 ],\n",
              "       [0.19207218],\n",
              "       [0.24261633],\n",
              "       [0.32472023],\n",
              "       [0.6287316 ],\n",
              "       [0.64481634],\n",
              "       [0.59340984],\n",
              "       [0.27431998],\n",
              "       [0.19044603],\n",
              "       [0.6405459 ],\n",
              "       [0.19186178],\n",
              "       [0.6342098 ],\n",
              "       [0.19367507],\n",
              "       [0.27357662],\n",
              "       [0.60839224],\n",
              "       [0.70869315],\n",
              "       [0.19454898],\n",
              "       [0.18874739],\n",
              "       [0.19195083],\n",
              "       [0.6006245 ],\n",
              "       [0.5496376 ],\n",
              "       [0.23435688],\n",
              "       [0.72364   ],\n",
              "       [0.28480768],\n",
              "       [0.20943761],\n",
              "       [0.59340984],\n",
              "       [0.2246037 ],\n",
              "       [0.59675634],\n",
              "       [0.59340984],\n",
              "       [0.18287542],\n",
              "       [0.727589  ],\n",
              "       [0.21082285],\n",
              "       [0.5940938 ],\n",
              "       [0.5652195 ],\n",
              "       [0.18996339],\n",
              "       [0.23862381],\n",
              "       [0.18233652],\n",
              "       [0.6368961 ],\n",
              "       [0.23737177],\n",
              "       [0.23848784],\n",
              "       [0.1949873 ],\n",
              "       [0.6514962 ],\n",
              "       [0.575737  ],\n",
              "       [0.24359706],\n",
              "       [0.19748853],\n",
              "       [0.7136067 ],\n",
              "       [0.2382452 ],\n",
              "       [0.7421449 ],\n",
              "       [0.2123231 ],\n",
              "       [0.60676396],\n",
              "       [0.2282838 ],\n",
              "       [0.19143468],\n",
              "       [0.6203835 ],\n",
              "       [0.32066113],\n",
              "       [0.24242644],\n",
              "       [0.19336367],\n",
              "       [0.21830778],\n",
              "       [0.6276887 ],\n",
              "       [0.27558962],\n",
              "       [0.19728759],\n",
              "       [0.18898347],\n",
              "       [0.6571141 ],\n",
              "       [0.28134742],\n",
              "       [0.77878577],\n",
              "       [0.2383769 ],\n",
              "       [0.3876628 ],\n",
              "       [0.19327171],\n",
              "       [0.26614162],\n",
              "       [0.19207218],\n",
              "       [0.26061204],\n",
              "       [0.62295055],\n",
              "       [0.73167527],\n",
              "       [0.21757479],\n",
              "       [0.74581385],\n",
              "       [0.1933262 ],\n",
              "       [0.567487  ],\n",
              "       [0.22549172],\n",
              "       [0.23837619],\n",
              "       [0.19260466],\n",
              "       [0.5832456 ],\n",
              "       [0.19460317],\n",
              "       [0.20126879],\n",
              "       [0.19420843],\n",
              "       [0.599509  ],\n",
              "       [0.19057599],\n",
              "       [0.21830778],\n",
              "       [0.23038836],\n",
              "       [0.5522019 ],\n",
              "       [0.3376545 ],\n",
              "       [0.62672985],\n",
              "       [0.27275178],\n",
              "       [0.64680266],\n",
              "       [0.56399864],\n",
              "       [0.2448694 ],\n",
              "       [0.22165671],\n",
              "       [0.36510667],\n",
              "       [0.19209309],\n",
              "       [0.21830778],\n",
              "       [0.5567487 ],\n",
              "       [0.7237459 ],\n",
              "       [0.7200128 ],\n",
              "       [0.19205579],\n",
              "       [0.2465337 ],\n",
              "       [0.22987907],\n",
              "       [0.5737311 ],\n",
              "       [0.19202532],\n",
              "       [0.2288496 ],\n",
              "       [0.6005867 ],\n",
              "       [0.2006892 ],\n",
              "       [0.18223944],\n",
              "       [0.20798588],\n",
              "       [0.19649825],\n",
              "       [0.62545025],\n",
              "       [0.59340984],\n",
              "       [0.2278026 ],\n",
              "       [0.27263612],\n",
              "       [0.3149871 ],\n",
              "       [0.5543602 ],\n",
              "       [0.6065851 ],\n",
              "       [0.22596893],\n",
              "       [0.5880269 ],\n",
              "       [0.18741813],\n",
              "       [0.2303637 ],\n",
              "       [0.19398567],\n",
              "       [0.3198381 ],\n",
              "       [0.19621722],\n",
              "       [0.22876582],\n",
              "       [0.27894858],\n",
              "       [0.31102866],\n",
              "       [0.3293503 ],\n",
              "       [0.22122326],\n",
              "       [0.1892654 ],\n",
              "       [0.5806171 ],\n",
              "       [0.61361504],\n",
              "       [0.19260466],\n",
              "       [0.27275178],\n",
              "       [0.19693495],\n",
              "       [0.5903035 ],\n",
              "       [0.39562967],\n",
              "       [0.5934976 ],\n",
              "       [0.19291326],\n",
              "       [0.5948804 ],\n",
              "       [0.21742952],\n",
              "       [0.24242716],\n",
              "       [0.22359145],\n",
              "       [0.19163904],\n",
              "       [0.637547  ],\n",
              "       [0.18555449],\n",
              "       [0.181313  ],\n",
              "       [0.6958135 ],\n",
              "       [0.6418068 ],\n",
              "       [0.22398329],\n",
              "       [0.62633985],\n",
              "       [0.22574523],\n",
              "       [0.7088751 ],\n",
              "       [0.18699571],\n",
              "       [0.26155135],\n",
              "       [0.21688676],\n",
              "       [0.1916486 ],\n",
              "       [0.2834592 ],\n",
              "       [0.19037086],\n",
              "       [0.71961796],\n",
              "       [0.22529495],\n",
              "       [0.19334605],\n",
              "       [0.6019192 ],\n",
              "       [0.5332486 ],\n",
              "       [0.25670066],\n",
              "       [0.593407  ],\n",
              "       [0.22590744],\n",
              "       [0.7076272 ],\n",
              "       [0.5906352 ],\n",
              "       [0.55270517],\n",
              "       [0.32941157],\n",
              "       [0.2684495 ],\n",
              "       [0.6405459 ],\n",
              "       [0.5919177 ],\n",
              "       [0.6152981 ],\n",
              "       [0.6122339 ],\n",
              "       [0.5903248 ],\n",
              "       [0.22294791],\n",
              "       [0.59733236],\n",
              "       [0.5733851 ],\n",
              "       [0.5759293 ],\n",
              "       [0.2047083 ],\n",
              "       [0.6755392 ],\n",
              "       [0.21818738],\n",
              "       [0.19440396],\n",
              "       [0.18839686],\n",
              "       [0.5948804 ],\n",
              "       [0.3374154 ],\n",
              "       [0.22574523],\n",
              "       [0.19113074],\n",
              "       [0.28570345],\n",
              "       [0.20357482],\n",
              "       [0.2734838 ],\n",
              "       [0.66698664],\n",
              "       [0.1920287 ],\n",
              "       [0.2406492 ],\n",
              "       [0.1921761 ],\n",
              "       [0.22021799],\n",
              "       [0.19982643],\n",
              "       [0.19373588],\n",
              "       [0.18367143],\n",
              "       [0.2580318 ],\n",
              "       [0.5639904 ],\n",
              "       [0.75501907],\n",
              "       [0.22200234],\n",
              "       [0.31191474],\n",
              "       [0.2459958 ],\n",
              "       [0.24064878],\n",
              "       [0.6520708 ],\n",
              "       [0.33766955],\n",
              "       [0.6012372 ],\n",
              "       [0.7078075 ],\n",
              "       [0.18712   ],\n",
              "       [0.5453297 ],\n",
              "       [0.6954178 ],\n",
              "       [0.6094804 ],\n",
              "       [0.60915506],\n",
              "       [0.21830778],\n",
              "       [0.18793565],\n",
              "       [0.73138446],\n",
              "       [0.22059032],\n",
              "       [0.61295253],\n",
              "       [0.2247937 ],\n",
              "       [0.24158993],\n",
              "       [0.22546872],\n",
              "       [0.23485509],\n",
              "       [0.33229718],\n",
              "       [0.59340984],\n",
              "       [0.22684273],\n",
              "       [0.19465455],\n",
              "       [0.6616963 ],\n",
              "       [0.5922799 ],\n",
              "       [0.19379048],\n",
              "       [0.5676948 ],\n",
              "       [0.5534091 ],\n",
              "       [0.6328529 ],\n",
              "       [0.17943342],\n",
              "       [0.7038035 ],\n",
              "       [0.7441639 ],\n",
              "       [0.6177224 ],\n",
              "       [0.19305116],\n",
              "       [0.64201033]], dtype=float32)"
            ]
          },
          "metadata": {},
          "execution_count": 78
        }
      ]
    },
    {
      "cell_type": "code",
      "source": [],
      "metadata": {
        "id": "wxfJCU3lep9T"
      },
      "execution_count": null,
      "outputs": []
    },
    {
      "cell_type": "code",
      "source": [],
      "metadata": {
        "id": "SdKQpTTHwvlk"
      },
      "execution_count": null,
      "outputs": []
    },
    {
      "cell_type": "code",
      "source": [],
      "metadata": {
        "id": "x4qB7-6ovox6"
      },
      "execution_count": null,
      "outputs": []
    }
  ]
}