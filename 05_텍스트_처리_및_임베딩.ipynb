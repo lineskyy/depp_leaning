{
  "nbformat": 4,
  "nbformat_minor": 0,
  "metadata": {
    "colab": {
      "provenance": [],
      "collapsed_sections": []
    },
    "kernelspec": {
      "name": "python3",
      "display_name": "Python 3"
    },
    "language_info": {
      "name": "python"
    },
    "accelerator": "GPU"
  },
  "cells": [
    {
      "cell_type": "code",
      "execution_count": null,
      "metadata": {
        "colab": {
          "base_uri": "https://localhost:8080/"
        },
        "id": "e4c4ClBFkVj7",
        "outputId": "3f78018d-119c-4631-8f4e-55c2836c8abf"
      },
      "outputs": [
        {
          "output_type": "stream",
          "name": "stdout",
          "text": [
            "Mounted at /content/drive\n"
          ]
        }
      ],
      "source": [
        "from google.colab import drive\n",
        "drive.mount(\"/content/drive\")"
      ]
    },
    {
      "cell_type": "code",
      "source": [
        "DATA_PATH = \"/content/drive/MyDrive/data/\"\n",
        "SEED = 42"
      ],
      "metadata": {
        "id": "T3HbJWVHl48h"
      },
      "execution_count": null,
      "outputs": []
    },
    {
      "cell_type": "code",
      "source": [
        "import pandas as pd\n",
        "import numpy as np\n",
        "df = pd.read_csv(f\"{DATA_PATH}imdb.csv\")\n",
        "df.head()"
      ],
      "metadata": {
        "colab": {
          "base_uri": "https://localhost:8080/",
          "height": 206
        },
        "id": "akuaB9CMmHmQ",
        "outputId": "bcd642c1-8067-449b-ad33-48347493ef8d"
      },
      "execution_count": null,
      "outputs": [
        {
          "output_type": "execute_result",
          "data": {
            "text/plain": [
              "                                              review  sentiment\n",
              "0  A very, very, very slow-moving, aimless movie ...          0\n",
              "1  Not sure who was more lost - the flat characte...          0\n",
              "2  Attempting artiness with black & white and cle...          0\n",
              "3       Very little music or anything to speak of.            0\n",
              "4  The best scene in the movie was when Gerardo i...          1"
            ],
            "text/html": [
              "\n",
              "  <div id=\"df-a8a03e78-f035-4c46-882a-35c472321880\">\n",
              "    <div class=\"colab-df-container\">\n",
              "      <div>\n",
              "<style scoped>\n",
              "    .dataframe tbody tr th:only-of-type {\n",
              "        vertical-align: middle;\n",
              "    }\n",
              "\n",
              "    .dataframe tbody tr th {\n",
              "        vertical-align: top;\n",
              "    }\n",
              "\n",
              "    .dataframe thead th {\n",
              "        text-align: right;\n",
              "    }\n",
              "</style>\n",
              "<table border=\"1\" class=\"dataframe\">\n",
              "  <thead>\n",
              "    <tr style=\"text-align: right;\">\n",
              "      <th></th>\n",
              "      <th>review</th>\n",
              "      <th>sentiment</th>\n",
              "    </tr>\n",
              "  </thead>\n",
              "  <tbody>\n",
              "    <tr>\n",
              "      <th>0</th>\n",
              "      <td>A very, very, very slow-moving, aimless movie ...</td>\n",
              "      <td>0</td>\n",
              "    </tr>\n",
              "    <tr>\n",
              "      <th>1</th>\n",
              "      <td>Not sure who was more lost - the flat characte...</td>\n",
              "      <td>0</td>\n",
              "    </tr>\n",
              "    <tr>\n",
              "      <th>2</th>\n",
              "      <td>Attempting artiness with black &amp; white and cle...</td>\n",
              "      <td>0</td>\n",
              "    </tr>\n",
              "    <tr>\n",
              "      <th>3</th>\n",
              "      <td>Very little music or anything to speak of.</td>\n",
              "      <td>0</td>\n",
              "    </tr>\n",
              "    <tr>\n",
              "      <th>4</th>\n",
              "      <td>The best scene in the movie was when Gerardo i...</td>\n",
              "      <td>1</td>\n",
              "    </tr>\n",
              "  </tbody>\n",
              "</table>\n",
              "</div>\n",
              "      <button class=\"colab-df-convert\" onclick=\"convertToInteractive('df-a8a03e78-f035-4c46-882a-35c472321880')\"\n",
              "              title=\"Convert this dataframe to an interactive table.\"\n",
              "              style=\"display:none;\">\n",
              "        \n",
              "  <svg xmlns=\"http://www.w3.org/2000/svg\" height=\"24px\"viewBox=\"0 0 24 24\"\n",
              "       width=\"24px\">\n",
              "    <path d=\"M0 0h24v24H0V0z\" fill=\"none\"/>\n",
              "    <path d=\"M18.56 5.44l.94 2.06.94-2.06 2.06-.94-2.06-.94-.94-2.06-.94 2.06-2.06.94zm-11 1L8.5 8.5l.94-2.06 2.06-.94-2.06-.94L8.5 2.5l-.94 2.06-2.06.94zm10 10l.94 2.06.94-2.06 2.06-.94-2.06-.94-.94-2.06-.94 2.06-2.06.94z\"/><path d=\"M17.41 7.96l-1.37-1.37c-.4-.4-.92-.59-1.43-.59-.52 0-1.04.2-1.43.59L10.3 9.45l-7.72 7.72c-.78.78-.78 2.05 0 2.83L4 21.41c.39.39.9.59 1.41.59.51 0 1.02-.2 1.41-.59l7.78-7.78 2.81-2.81c.8-.78.8-2.07 0-2.86zM5.41 20L4 18.59l7.72-7.72 1.47 1.35L5.41 20z\"/>\n",
              "  </svg>\n",
              "      </button>\n",
              "      \n",
              "  <style>\n",
              "    .colab-df-container {\n",
              "      display:flex;\n",
              "      flex-wrap:wrap;\n",
              "      gap: 12px;\n",
              "    }\n",
              "\n",
              "    .colab-df-convert {\n",
              "      background-color: #E8F0FE;\n",
              "      border: none;\n",
              "      border-radius: 50%;\n",
              "      cursor: pointer;\n",
              "      display: none;\n",
              "      fill: #1967D2;\n",
              "      height: 32px;\n",
              "      padding: 0 0 0 0;\n",
              "      width: 32px;\n",
              "    }\n",
              "\n",
              "    .colab-df-convert:hover {\n",
              "      background-color: #E2EBFA;\n",
              "      box-shadow: 0px 1px 2px rgba(60, 64, 67, 0.3), 0px 1px 3px 1px rgba(60, 64, 67, 0.15);\n",
              "      fill: #174EA6;\n",
              "    }\n",
              "\n",
              "    [theme=dark] .colab-df-convert {\n",
              "      background-color: #3B4455;\n",
              "      fill: #D2E3FC;\n",
              "    }\n",
              "\n",
              "    [theme=dark] .colab-df-convert:hover {\n",
              "      background-color: #434B5C;\n",
              "      box-shadow: 0px 1px 3px 1px rgba(0, 0, 0, 0.15);\n",
              "      filter: drop-shadow(0px 1px 2px rgba(0, 0, 0, 0.3));\n",
              "      fill: #FFFFFF;\n",
              "    }\n",
              "  </style>\n",
              "\n",
              "      <script>\n",
              "        const buttonEl =\n",
              "          document.querySelector('#df-a8a03e78-f035-4c46-882a-35c472321880 button.colab-df-convert');\n",
              "        buttonEl.style.display =\n",
              "          google.colab.kernel.accessAllowed ? 'block' : 'none';\n",
              "\n",
              "        async function convertToInteractive(key) {\n",
              "          const element = document.querySelector('#df-a8a03e78-f035-4c46-882a-35c472321880');\n",
              "          const dataTable =\n",
              "            await google.colab.kernel.invokeFunction('convertToInteractive',\n",
              "                                                     [key], {});\n",
              "          if (!dataTable) return;\n",
              "\n",
              "          const docLinkHtml = 'Like what you see? Visit the ' +\n",
              "            '<a target=\"_blank\" href=https://colab.research.google.com/notebooks/data_table.ipynb>data table notebook</a>'\n",
              "            + ' to learn more about interactive tables.';\n",
              "          element.innerHTML = '';\n",
              "          dataTable['output_type'] = 'display_data';\n",
              "          await google.colab.output.renderOutput(dataTable, element);\n",
              "          const docLink = document.createElement('div');\n",
              "          docLink.innerHTML = docLinkHtml;\n",
              "          element.appendChild(docLink);\n",
              "        }\n",
              "      </script>\n",
              "    </div>\n",
              "  </div>\n",
              "  "
            ]
          },
          "metadata": {},
          "execution_count": 3
        }
      ]
    },
    {
      "cell_type": "code",
      "source": [
        "df.info()"
      ],
      "metadata": {
        "colab": {
          "base_uri": "https://localhost:8080/"
        },
        "id": "l4ehy3HGnFCX",
        "outputId": "ebadbf6a-522f-47b6-d2e0-e6d41cc8d922"
      },
      "execution_count": null,
      "outputs": [
        {
          "output_type": "stream",
          "name": "stdout",
          "text": [
            "<class 'pandas.core.frame.DataFrame'>\n",
            "RangeIndex: 748 entries, 0 to 747\n",
            "Data columns (total 2 columns):\n",
            " #   Column     Non-Null Count  Dtype \n",
            "---  ------     --------------  ----- \n",
            " 0   review     748 non-null    object\n",
            " 1   sentiment  748 non-null    int64 \n",
            "dtypes: int64(1), object(1)\n",
            "memory usage: 11.8+ KB\n"
          ]
        }
      ]
    },
    {
      "cell_type": "code",
      "source": [
        "df[\"sentiment\"].mean()"
      ],
      "metadata": {
        "colab": {
          "base_uri": "https://localhost:8080/"
        },
        "id": "iUU0ARLpnE-x",
        "outputId": "96aeee3e-a993-4ab1-9d22-5cacae88b110"
      },
      "execution_count": null,
      "outputs": [
        {
          "output_type": "execute_result",
          "data": {
            "text/plain": [
              "0.516042780748663"
            ]
          },
          "metadata": {},
          "execution_count": 5
        }
      ]
    },
    {
      "cell_type": "markdown",
      "source": [
        "# 자연어처리(Natural Language Processing)\n",
        "- 자연어 이해\n",
        "- 자연어 생성"
      ],
      "metadata": {
        "id": "CIqms9qvnVUA"
      }
    },
    {
      "cell_type": "markdown",
      "source": [
        "# 단어문서행렬(Term Document Matrix)\n",
        "- 문서별로 단어의 빈도를 정리한 표"
      ],
      "metadata": {
        "id": "cX-20YbroyPM"
      }
    },
    {
      "cell_type": "code",
      "source": [
        "from sklearn.feature_extraction.text import CountVectorizer\n",
        "cnt_vec = CountVectorizer(max_features=100,stop_words=\"english\")\n",
        "\n",
        "tdm = cnt_vec.fit_transform(df[\"review\"])\n",
        "tdm"
      ],
      "metadata": {
        "colab": {
          "base_uri": "https://localhost:8080/"
        },
        "id": "cKTHcaq3nUnT",
        "outputId": "bd316843-d3eb-4fd2-98cd-ee8e05cdcf96"
      },
      "execution_count": null,
      "outputs": [
        {
          "output_type": "execute_result",
          "data": {
            "text/plain": [
              "<748x100 sparse matrix of type '<class 'numpy.int64'>'\n",
              "\twith 1775 stored elements in Compressed Sparse Row format>"
            ]
          },
          "metadata": {},
          "execution_count": 6
        }
      ]
    },
    {
      "cell_type": "code",
      "source": [
        "tdm.toarray()"
      ],
      "metadata": {
        "colab": {
          "base_uri": "https://localhost:8080/"
        },
        "id": "kuTtOyZtnUkk",
        "outputId": "0ee02fac-c97c-4645-83a3-8ea4edaf90b8"
      },
      "execution_count": null,
      "outputs": [
        {
          "output_type": "execute_result",
          "data": {
            "text/plain": [
              "array([[0, 0, 0, ..., 0, 0, 0],\n",
              "       [0, 0, 0, ..., 0, 0, 0],\n",
              "       [0, 1, 0, ..., 0, 0, 0],\n",
              "       ...,\n",
              "       [0, 0, 0, ..., 0, 0, 0],\n",
              "       [0, 0, 0, ..., 0, 0, 0],\n",
              "       [0, 0, 0, ..., 0, 0, 0]])"
            ]
          },
          "metadata": {},
          "execution_count": 7
        }
      ]
    },
    {
      "cell_type": "code",
      "source": [
        "cnt_vec.get_feature_names_out()"
      ],
      "metadata": {
        "colab": {
          "base_uri": "https://localhost:8080/"
        },
        "id": "bPEGty6enUh8",
        "outputId": "0b2513c8-e4d2-49e7-a3ca-0411461a6cdc"
      },
      "execution_count": null,
      "outputs": [
        {
          "output_type": "execute_result",
          "data": {
            "text/plain": [
              "array(['10', 'acting', 'actor', 'actors', 'actually', 'art', 'awful',\n",
              "       'bad', 'beautiful', 'best', 'better', 'big', 'black', 'boring',\n",
              "       'camera', 'cast', 'character', 'characters', 'cinematography',\n",
              "       'definitely', 'dialogue', 'did', 'didn', 'director', 'doesn',\n",
              "       'don', 'drama', 'effects', 'end', 'ending', 'excellent', 'feeling',\n",
              "       'film', 'films', 'funny', 'game', 'going', 'good', 'great',\n",
              "       'highly', 'interesting', 'job', 'just', 'know', 'life', 'like',\n",
              "       'liked', 'line', 'little', 'look', 'love', 'loved', 'make', 'man',\n",
              "       'movie', 'movies', 'music', 'people', 'performance', 'piece',\n",
              "       'played', 'plot', 'predictable', 'pretty', 'quite', 'real',\n",
              "       'really', 'recommend', 'right', 'saw', 'say', 'scene', 'scenes',\n",
              "       'screen', 'script', 'seen', 'short', 'simply', 'story', 'stupid',\n",
              "       'terrible', 'thing', 'things', 'think', 'thought', 'time',\n",
              "       'totally', 'truly', 've', 'waste', 'watch', 'watching', 'way',\n",
              "       'wonderful', 'work', 'worse', 'worst', 'worth', 'writing', 'years'],\n",
              "      dtype=object)"
            ]
          },
          "metadata": {},
          "execution_count": 8
        }
      ]
    },
    {
      "cell_type": "code",
      "source": [
        "tdm_df = pd.DataFrame(tdm.toarray(),columns=cnt_vec.get_feature_names_out())\n",
        "tdm_df"
      ],
      "metadata": {
        "colab": {
          "base_uri": "https://localhost:8080/",
          "height": 424
        },
        "id": "RM3mFHuHnUfI",
        "outputId": "dc31af07-c2d3-4876-cf4f-5d3cfe91cccd"
      },
      "execution_count": null,
      "outputs": [
        {
          "output_type": "execute_result",
          "data": {
            "text/plain": [
              "     10  acting  actor  actors  actually  art  awful  bad  beautiful  best  \\\n",
              "0     0       0      0       0         0    0      0    0          0     0   \n",
              "1     0       0      0       0         0    0      0    0          0     0   \n",
              "2     0       1      0       0         0    0      0    0          0     0   \n",
              "3     0       0      0       0         0    0      0    0          0     0   \n",
              "4     0       0      0       0         0    0      0    0          0     1   \n",
              "..   ..     ...    ...     ...       ...  ...    ...  ...        ...   ...   \n",
              "743   0       0      0       0         0    0      0    0          0     0   \n",
              "744   0       0      0       0         0    0      0    0          0     0   \n",
              "745   0       0      0       0         0    0      0    0          0     0   \n",
              "746   0       0      0       0         0    0      0    1          0     0   \n",
              "747   0       0      0       0         0    0      0    0          0     0   \n",
              "\n",
              "     ...  watch  watching  way  wonderful  work  worse  worst  worth  writing  \\\n",
              "0    ...      0         0    0          0     0      0      0      0        0   \n",
              "1    ...      0         0    0          0     0      0      0      0        0   \n",
              "2    ...      0         0    0          0     0      0      0      0        0   \n",
              "3    ...      0         0    0          0     0      0      0      0        0   \n",
              "4    ...      0         0    0          0     0      0      0      0        0   \n",
              "..   ...    ...       ...  ...        ...   ...    ...    ...    ...      ...   \n",
              "743  ...      0         1    0          0     0      0      0      0        0   \n",
              "744  ...      0         0    0          0     1      0      0      0        0   \n",
              "745  ...      0         0    0          0     0      0      0      0        0   \n",
              "746  ...      0         0    0          0     0      0      0      0        0   \n",
              "747  ...      0         0    0          0     0      0      0      0        0   \n",
              "\n",
              "     years  \n",
              "0        0  \n",
              "1        0  \n",
              "2        0  \n",
              "3        0  \n",
              "4        0  \n",
              "..     ...  \n",
              "743      0  \n",
              "744      0  \n",
              "745      0  \n",
              "746      0  \n",
              "747      0  \n",
              "\n",
              "[748 rows x 100 columns]"
            ],
            "text/html": [
              "\n",
              "  <div id=\"df-f538000b-6dfb-4f8f-909f-a9913d9f4044\">\n",
              "    <div class=\"colab-df-container\">\n",
              "      <div>\n",
              "<style scoped>\n",
              "    .dataframe tbody tr th:only-of-type {\n",
              "        vertical-align: middle;\n",
              "    }\n",
              "\n",
              "    .dataframe tbody tr th {\n",
              "        vertical-align: top;\n",
              "    }\n",
              "\n",
              "    .dataframe thead th {\n",
              "        text-align: right;\n",
              "    }\n",
              "</style>\n",
              "<table border=\"1\" class=\"dataframe\">\n",
              "  <thead>\n",
              "    <tr style=\"text-align: right;\">\n",
              "      <th></th>\n",
              "      <th>10</th>\n",
              "      <th>acting</th>\n",
              "      <th>actor</th>\n",
              "      <th>actors</th>\n",
              "      <th>actually</th>\n",
              "      <th>art</th>\n",
              "      <th>awful</th>\n",
              "      <th>bad</th>\n",
              "      <th>beautiful</th>\n",
              "      <th>best</th>\n",
              "      <th>...</th>\n",
              "      <th>watch</th>\n",
              "      <th>watching</th>\n",
              "      <th>way</th>\n",
              "      <th>wonderful</th>\n",
              "      <th>work</th>\n",
              "      <th>worse</th>\n",
              "      <th>worst</th>\n",
              "      <th>worth</th>\n",
              "      <th>writing</th>\n",
              "      <th>years</th>\n",
              "    </tr>\n",
              "  </thead>\n",
              "  <tbody>\n",
              "    <tr>\n",
              "      <th>0</th>\n",
              "      <td>0</td>\n",
              "      <td>0</td>\n",
              "      <td>0</td>\n",
              "      <td>0</td>\n",
              "      <td>0</td>\n",
              "      <td>0</td>\n",
              "      <td>0</td>\n",
              "      <td>0</td>\n",
              "      <td>0</td>\n",
              "      <td>0</td>\n",
              "      <td>...</td>\n",
              "      <td>0</td>\n",
              "      <td>0</td>\n",
              "      <td>0</td>\n",
              "      <td>0</td>\n",
              "      <td>0</td>\n",
              "      <td>0</td>\n",
              "      <td>0</td>\n",
              "      <td>0</td>\n",
              "      <td>0</td>\n",
              "      <td>0</td>\n",
              "    </tr>\n",
              "    <tr>\n",
              "      <th>1</th>\n",
              "      <td>0</td>\n",
              "      <td>0</td>\n",
              "      <td>0</td>\n",
              "      <td>0</td>\n",
              "      <td>0</td>\n",
              "      <td>0</td>\n",
              "      <td>0</td>\n",
              "      <td>0</td>\n",
              "      <td>0</td>\n",
              "      <td>0</td>\n",
              "      <td>...</td>\n",
              "      <td>0</td>\n",
              "      <td>0</td>\n",
              "      <td>0</td>\n",
              "      <td>0</td>\n",
              "      <td>0</td>\n",
              "      <td>0</td>\n",
              "      <td>0</td>\n",
              "      <td>0</td>\n",
              "      <td>0</td>\n",
              "      <td>0</td>\n",
              "    </tr>\n",
              "    <tr>\n",
              "      <th>2</th>\n",
              "      <td>0</td>\n",
              "      <td>1</td>\n",
              "      <td>0</td>\n",
              "      <td>0</td>\n",
              "      <td>0</td>\n",
              "      <td>0</td>\n",
              "      <td>0</td>\n",
              "      <td>0</td>\n",
              "      <td>0</td>\n",
              "      <td>0</td>\n",
              "      <td>...</td>\n",
              "      <td>0</td>\n",
              "      <td>0</td>\n",
              "      <td>0</td>\n",
              "      <td>0</td>\n",
              "      <td>0</td>\n",
              "      <td>0</td>\n",
              "      <td>0</td>\n",
              "      <td>0</td>\n",
              "      <td>0</td>\n",
              "      <td>0</td>\n",
              "    </tr>\n",
              "    <tr>\n",
              "      <th>3</th>\n",
              "      <td>0</td>\n",
              "      <td>0</td>\n",
              "      <td>0</td>\n",
              "      <td>0</td>\n",
              "      <td>0</td>\n",
              "      <td>0</td>\n",
              "      <td>0</td>\n",
              "      <td>0</td>\n",
              "      <td>0</td>\n",
              "      <td>0</td>\n",
              "      <td>...</td>\n",
              "      <td>0</td>\n",
              "      <td>0</td>\n",
              "      <td>0</td>\n",
              "      <td>0</td>\n",
              "      <td>0</td>\n",
              "      <td>0</td>\n",
              "      <td>0</td>\n",
              "      <td>0</td>\n",
              "      <td>0</td>\n",
              "      <td>0</td>\n",
              "    </tr>\n",
              "    <tr>\n",
              "      <th>4</th>\n",
              "      <td>0</td>\n",
              "      <td>0</td>\n",
              "      <td>0</td>\n",
              "      <td>0</td>\n",
              "      <td>0</td>\n",
              "      <td>0</td>\n",
              "      <td>0</td>\n",
              "      <td>0</td>\n",
              "      <td>0</td>\n",
              "      <td>1</td>\n",
              "      <td>...</td>\n",
              "      <td>0</td>\n",
              "      <td>0</td>\n",
              "      <td>0</td>\n",
              "      <td>0</td>\n",
              "      <td>0</td>\n",
              "      <td>0</td>\n",
              "      <td>0</td>\n",
              "      <td>0</td>\n",
              "      <td>0</td>\n",
              "      <td>0</td>\n",
              "    </tr>\n",
              "    <tr>\n",
              "      <th>...</th>\n",
              "      <td>...</td>\n",
              "      <td>...</td>\n",
              "      <td>...</td>\n",
              "      <td>...</td>\n",
              "      <td>...</td>\n",
              "      <td>...</td>\n",
              "      <td>...</td>\n",
              "      <td>...</td>\n",
              "      <td>...</td>\n",
              "      <td>...</td>\n",
              "      <td>...</td>\n",
              "      <td>...</td>\n",
              "      <td>...</td>\n",
              "      <td>...</td>\n",
              "      <td>...</td>\n",
              "      <td>...</td>\n",
              "      <td>...</td>\n",
              "      <td>...</td>\n",
              "      <td>...</td>\n",
              "      <td>...</td>\n",
              "      <td>...</td>\n",
              "    </tr>\n",
              "    <tr>\n",
              "      <th>743</th>\n",
              "      <td>0</td>\n",
              "      <td>0</td>\n",
              "      <td>0</td>\n",
              "      <td>0</td>\n",
              "      <td>0</td>\n",
              "      <td>0</td>\n",
              "      <td>0</td>\n",
              "      <td>0</td>\n",
              "      <td>0</td>\n",
              "      <td>0</td>\n",
              "      <td>...</td>\n",
              "      <td>0</td>\n",
              "      <td>1</td>\n",
              "      <td>0</td>\n",
              "      <td>0</td>\n",
              "      <td>0</td>\n",
              "      <td>0</td>\n",
              "      <td>0</td>\n",
              "      <td>0</td>\n",
              "      <td>0</td>\n",
              "      <td>0</td>\n",
              "    </tr>\n",
              "    <tr>\n",
              "      <th>744</th>\n",
              "      <td>0</td>\n",
              "      <td>0</td>\n",
              "      <td>0</td>\n",
              "      <td>0</td>\n",
              "      <td>0</td>\n",
              "      <td>0</td>\n",
              "      <td>0</td>\n",
              "      <td>0</td>\n",
              "      <td>0</td>\n",
              "      <td>0</td>\n",
              "      <td>...</td>\n",
              "      <td>0</td>\n",
              "      <td>0</td>\n",
              "      <td>0</td>\n",
              "      <td>0</td>\n",
              "      <td>1</td>\n",
              "      <td>0</td>\n",
              "      <td>0</td>\n",
              "      <td>0</td>\n",
              "      <td>0</td>\n",
              "      <td>0</td>\n",
              "    </tr>\n",
              "    <tr>\n",
              "      <th>745</th>\n",
              "      <td>0</td>\n",
              "      <td>0</td>\n",
              "      <td>0</td>\n",
              "      <td>0</td>\n",
              "      <td>0</td>\n",
              "      <td>0</td>\n",
              "      <td>0</td>\n",
              "      <td>0</td>\n",
              "      <td>0</td>\n",
              "      <td>0</td>\n",
              "      <td>...</td>\n",
              "      <td>0</td>\n",
              "      <td>0</td>\n",
              "      <td>0</td>\n",
              "      <td>0</td>\n",
              "      <td>0</td>\n",
              "      <td>0</td>\n",
              "      <td>0</td>\n",
              "      <td>0</td>\n",
              "      <td>0</td>\n",
              "      <td>0</td>\n",
              "    </tr>\n",
              "    <tr>\n",
              "      <th>746</th>\n",
              "      <td>0</td>\n",
              "      <td>0</td>\n",
              "      <td>0</td>\n",
              "      <td>0</td>\n",
              "      <td>0</td>\n",
              "      <td>0</td>\n",
              "      <td>0</td>\n",
              "      <td>1</td>\n",
              "      <td>0</td>\n",
              "      <td>0</td>\n",
              "      <td>...</td>\n",
              "      <td>0</td>\n",
              "      <td>0</td>\n",
              "      <td>0</td>\n",
              "      <td>0</td>\n",
              "      <td>0</td>\n",
              "      <td>0</td>\n",
              "      <td>0</td>\n",
              "      <td>0</td>\n",
              "      <td>0</td>\n",
              "      <td>0</td>\n",
              "    </tr>\n",
              "    <tr>\n",
              "      <th>747</th>\n",
              "      <td>0</td>\n",
              "      <td>0</td>\n",
              "      <td>0</td>\n",
              "      <td>0</td>\n",
              "      <td>0</td>\n",
              "      <td>0</td>\n",
              "      <td>0</td>\n",
              "      <td>0</td>\n",
              "      <td>0</td>\n",
              "      <td>0</td>\n",
              "      <td>...</td>\n",
              "      <td>0</td>\n",
              "      <td>0</td>\n",
              "      <td>0</td>\n",
              "      <td>0</td>\n",
              "      <td>0</td>\n",
              "      <td>0</td>\n",
              "      <td>0</td>\n",
              "      <td>0</td>\n",
              "      <td>0</td>\n",
              "      <td>0</td>\n",
              "    </tr>\n",
              "  </tbody>\n",
              "</table>\n",
              "<p>748 rows × 100 columns</p>\n",
              "</div>\n",
              "      <button class=\"colab-df-convert\" onclick=\"convertToInteractive('df-f538000b-6dfb-4f8f-909f-a9913d9f4044')\"\n",
              "              title=\"Convert this dataframe to an interactive table.\"\n",
              "              style=\"display:none;\">\n",
              "        \n",
              "  <svg xmlns=\"http://www.w3.org/2000/svg\" height=\"24px\"viewBox=\"0 0 24 24\"\n",
              "       width=\"24px\">\n",
              "    <path d=\"M0 0h24v24H0V0z\" fill=\"none\"/>\n",
              "    <path d=\"M18.56 5.44l.94 2.06.94-2.06 2.06-.94-2.06-.94-.94-2.06-.94 2.06-2.06.94zm-11 1L8.5 8.5l.94-2.06 2.06-.94-2.06-.94L8.5 2.5l-.94 2.06-2.06.94zm10 10l.94 2.06.94-2.06 2.06-.94-2.06-.94-.94-2.06-.94 2.06-2.06.94z\"/><path d=\"M17.41 7.96l-1.37-1.37c-.4-.4-.92-.59-1.43-.59-.52 0-1.04.2-1.43.59L10.3 9.45l-7.72 7.72c-.78.78-.78 2.05 0 2.83L4 21.41c.39.39.9.59 1.41.59.51 0 1.02-.2 1.41-.59l7.78-7.78 2.81-2.81c.8-.78.8-2.07 0-2.86zM5.41 20L4 18.59l7.72-7.72 1.47 1.35L5.41 20z\"/>\n",
              "  </svg>\n",
              "      </button>\n",
              "      \n",
              "  <style>\n",
              "    .colab-df-container {\n",
              "      display:flex;\n",
              "      flex-wrap:wrap;\n",
              "      gap: 12px;\n",
              "    }\n",
              "\n",
              "    .colab-df-convert {\n",
              "      background-color: #E8F0FE;\n",
              "      border: none;\n",
              "      border-radius: 50%;\n",
              "      cursor: pointer;\n",
              "      display: none;\n",
              "      fill: #1967D2;\n",
              "      height: 32px;\n",
              "      padding: 0 0 0 0;\n",
              "      width: 32px;\n",
              "    }\n",
              "\n",
              "    .colab-df-convert:hover {\n",
              "      background-color: #E2EBFA;\n",
              "      box-shadow: 0px 1px 2px rgba(60, 64, 67, 0.3), 0px 1px 3px 1px rgba(60, 64, 67, 0.15);\n",
              "      fill: #174EA6;\n",
              "    }\n",
              "\n",
              "    [theme=dark] .colab-df-convert {\n",
              "      background-color: #3B4455;\n",
              "      fill: #D2E3FC;\n",
              "    }\n",
              "\n",
              "    [theme=dark] .colab-df-convert:hover {\n",
              "      background-color: #434B5C;\n",
              "      box-shadow: 0px 1px 3px 1px rgba(0, 0, 0, 0.15);\n",
              "      filter: drop-shadow(0px 1px 2px rgba(0, 0, 0, 0.3));\n",
              "      fill: #FFFFFF;\n",
              "    }\n",
              "  </style>\n",
              "\n",
              "      <script>\n",
              "        const buttonEl =\n",
              "          document.querySelector('#df-f538000b-6dfb-4f8f-909f-a9913d9f4044 button.colab-df-convert');\n",
              "        buttonEl.style.display =\n",
              "          google.colab.kernel.accessAllowed ? 'block' : 'none';\n",
              "\n",
              "        async function convertToInteractive(key) {\n",
              "          const element = document.querySelector('#df-f538000b-6dfb-4f8f-909f-a9913d9f4044');\n",
              "          const dataTable =\n",
              "            await google.colab.kernel.invokeFunction('convertToInteractive',\n",
              "                                                     [key], {});\n",
              "          if (!dataTable) return;\n",
              "\n",
              "          const docLinkHtml = 'Like what you see? Visit the ' +\n",
              "            '<a target=\"_blank\" href=https://colab.research.google.com/notebooks/data_table.ipynb>data table notebook</a>'\n",
              "            + ' to learn more about interactive tables.';\n",
              "          element.innerHTML = '';\n",
              "          dataTable['output_type'] = 'display_data';\n",
              "          await google.colab.output.renderOutput(dataTable, element);\n",
              "          const docLink = document.createElement('div');\n",
              "          docLink.innerHTML = docLinkHtml;\n",
              "          element.appendChild(docLink);\n",
              "        }\n",
              "      </script>\n",
              "    </div>\n",
              "  </div>\n",
              "  "
            ]
          },
          "metadata": {},
          "execution_count": 9
        }
      ]
    },
    {
      "cell_type": "code",
      "source": [
        "tdm_df.sum().to_dict()"
      ],
      "metadata": {
        "colab": {
          "base_uri": "https://localhost:8080/"
        },
        "id": "oUhrED0qr8m5",
        "outputId": "a4cdacd2-807b-4720-9d60-3d0dde83139a"
      },
      "execution_count": null,
      "outputs": [
        {
          "output_type": "execute_result",
          "data": {
            "text/plain": [
              "{'10': 29,\n",
              " 'acting': 43,\n",
              " 'actor': 10,\n",
              " 'actors': 19,\n",
              " 'actually': 10,\n",
              " 'art': 13,\n",
              " 'awful': 14,\n",
              " 'bad': 71,\n",
              " 'beautiful': 11,\n",
              " 'best': 25,\n",
              " 'better': 18,\n",
              " 'big': 10,\n",
              " 'black': 10,\n",
              " 'boring': 10,\n",
              " 'camera': 10,\n",
              " 'cast': 18,\n",
              " 'character': 24,\n",
              " 'characters': 35,\n",
              " 'cinematography': 10,\n",
              " 'definitely': 9,\n",
              " 'dialogue': 13,\n",
              " 'did': 11,\n",
              " 'didn': 22,\n",
              " 'director': 12,\n",
              " 'doesn': 12,\n",
              " 'don': 26,\n",
              " 'drama': 10,\n",
              " 'effects': 9,\n",
              " 'end': 11,\n",
              " 'ending': 11,\n",
              " 'excellent': 16,\n",
              " 'feeling': 10,\n",
              " 'film': 163,\n",
              " 'films': 24,\n",
              " 'funny': 19,\n",
              " 'game': 9,\n",
              " 'going': 10,\n",
              " 'good': 58,\n",
              " 'great': 41,\n",
              " 'highly': 10,\n",
              " 'interesting': 12,\n",
              " 'job': 9,\n",
              " 'just': 63,\n",
              " 'know': 14,\n",
              " 'life': 12,\n",
              " 'like': 48,\n",
              " 'liked': 10,\n",
              " 'line': 12,\n",
              " 'little': 17,\n",
              " 'look': 19,\n",
              " 'love': 22,\n",
              " 'loved': 10,\n",
              " 'make': 22,\n",
              " 'man': 13,\n",
              " 'movie': 182,\n",
              " 'movies': 29,\n",
              " 'music': 14,\n",
              " 'people': 14,\n",
              " 'performance': 12,\n",
              " 'piece': 10,\n",
              " 'played': 10,\n",
              " 'plot': 28,\n",
              " 'predictable': 10,\n",
              " 'pretty': 13,\n",
              " 'quite': 10,\n",
              " 'real': 21,\n",
              " 'really': 41,\n",
              " 'recommend': 13,\n",
              " 'right': 13,\n",
              " 'saw': 12,\n",
              " 'say': 13,\n",
              " 'scene': 14,\n",
              " 'scenes': 19,\n",
              " 'screen': 14,\n",
              " 'script': 24,\n",
              " 'seen': 23,\n",
              " 'short': 11,\n",
              " 'simply': 10,\n",
              " 'story': 28,\n",
              " 'stupid': 14,\n",
              " 'terrible': 12,\n",
              " 'thing': 13,\n",
              " 'things': 12,\n",
              " 'think': 21,\n",
              " 'thought': 12,\n",
              " 'time': 43,\n",
              " 'totally': 15,\n",
              " 'truly': 9,\n",
              " 've': 13,\n",
              " 'waste': 14,\n",
              " 'watch': 17,\n",
              " 'watching': 22,\n",
              " 'way': 23,\n",
              " 'wonderful': 18,\n",
              " 'work': 20,\n",
              " 'worse': 11,\n",
              " 'worst': 11,\n",
              " 'worth': 13,\n",
              " 'writing': 13,\n",
              " 'years': 14}"
            ]
          },
          "metadata": {},
          "execution_count": 10
        }
      ]
    },
    {
      "cell_type": "markdown",
      "source": [
        "# 단어구름 만들어 시각화해보기"
      ],
      "metadata": {
        "id": "yHveZoWbsZKg"
      }
    },
    {
      "cell_type": "code",
      "source": [
        "from wordcloud import WordCloud\n",
        "wc = WordCloud(background_color=\"white\",width=500,height=500)"
      ],
      "metadata": {
        "id": "f4msdDn9r8kV"
      },
      "execution_count": null,
      "outputs": []
    },
    {
      "cell_type": "code",
      "source": [
        "cloud = wc.generate_from_frequencies(tdm_df.sum().to_dict())\n",
        "cloud.to_image()"
      ],
      "metadata": {
        "colab": {
          "base_uri": "https://localhost:8080/",
          "height": 517
        },
        "id": "93Yy_32Er8hu",
        "outputId": "b786e481-8afa-41b3-80f3-2b21ffb1b0c2"
      },
      "execution_count": null,
      "outputs": [
        {
          "output_type": "execute_result",
          "data": {
            "text/plain": [
              "<PIL.Image.Image image mode=RGB size=500x500 at 0x7F5A9EC6FB10>"
            ],
            "image/png": "[encoded data removed]"
          },
          "metadata": {},
          "execution_count": 12
        }
      ]
    },
    {
      "cell_type": "markdown",
      "source": [
        "# TF-IDF\n",
        "- 단어 빈도(TF) 와 역문서빈도(IDF) 를 곱한값\n",
        "- 단어 빈도에 가중치를 주는 방법\n",
        "- 문서빈도(DF) : 각 단어가 등장한 문서의수\n",
        "- 역문서빈도(IDF) : 총문서를 DF로 나눈값"
      ],
      "metadata": {
        "id": "D15i9-sbtY-K"
      }
    },
    {
      "cell_type": "code",
      "source": [
        "from sklearn.feature_extraction.text import TfidfVectorizer\n",
        "tfidf_vec = TfidfVectorizer(max_features=100, stop_words=\"english\")\n",
        "tfidf = tfidf_vec.fit_transform(df[\"review\"])\n",
        "tfidf"
      ],
      "metadata": {
        "colab": {
          "base_uri": "https://localhost:8080/"
        },
        "id": "DQtd87FdtYUr",
        "outputId": "1519f74a-99f0-4b2e-fae3-299dc76392e2"
      },
      "execution_count": null,
      "outputs": [
        {
          "output_type": "execute_result",
          "data": {
            "text/plain": [
              "<748x100 sparse matrix of type '<class 'numpy.float64'>'\n",
              "\twith 1775 stored elements in Compressed Sparse Row format>"
            ]
          },
          "metadata": {},
          "execution_count": 13
        }
      ]
    },
    {
      "cell_type": "code",
      "source": [
        "pd.DataFrame(tfidf.toarray(),columns = tfidf_vec.get_feature_names_out())"
      ],
      "metadata": {
        "colab": {
          "base_uri": "https://localhost:8080/",
          "height": 424
        },
        "id": "YxawMhMttYR8",
        "outputId": "47f8b107-1e11-4665-e348-98ea21efef8e"
      },
      "execution_count": null,
      "outputs": [
        {
          "output_type": "execute_result",
          "data": {
            "text/plain": [
              "      10    acting  actor  actors  actually  art  awful  bad  beautiful  \\\n",
              "0    0.0  0.000000    0.0     0.0       0.0  0.0    0.0  0.0        0.0   \n",
              "1    0.0  0.000000    0.0     0.0       0.0  0.0    0.0  0.0        0.0   \n",
              "2    0.0  0.402595    0.0     0.0       0.0  0.0    0.0  0.0        0.0   \n",
              "3    0.0  0.000000    0.0     0.0       0.0  0.0    0.0  0.0        0.0   \n",
              "4    0.0  0.000000    0.0     0.0       0.0  0.0    0.0  0.0        0.0   \n",
              "..   ...       ...    ...     ...       ...  ...    ...  ...        ...   \n",
              "743  0.0  0.000000    0.0     0.0       0.0  0.0    0.0  0.0        0.0   \n",
              "744  0.0  0.000000    0.0     0.0       0.0  0.0    0.0  0.0        0.0   \n",
              "745  0.0  0.000000    0.0     0.0       0.0  0.0    0.0  0.0        0.0   \n",
              "746  0.0  0.000000    0.0     0.0       0.0  0.0    0.0  1.0        0.0   \n",
              "747  0.0  0.000000    0.0     0.0       0.0  0.0    0.0  0.0        0.0   \n",
              "\n",
              "         best  ...  watch  watching  way  wonderful      work  worse  worst  \\\n",
              "0    0.000000  ...    0.0  0.000000  0.0        0.0  0.000000    0.0    0.0   \n",
              "1    0.000000  ...    0.0  0.000000  0.0        0.0  0.000000    0.0    0.0   \n",
              "2    0.000000  ...    0.0  0.000000  0.0        0.0  0.000000    0.0    0.0   \n",
              "3    0.000000  ...    0.0  0.000000  0.0        0.0  0.000000    0.0    0.0   \n",
              "4    0.618573  ...    0.0  0.000000  0.0        0.0  0.000000    0.0    0.0   \n",
              "..        ...  ...    ...       ...  ...        ...       ...    ...    ...   \n",
              "743  0.000000  ...    0.0  0.785154  0.0        0.0  0.000000    0.0    0.0   \n",
              "744  0.000000  ...    0.0  0.000000  0.0        0.0  0.652005    0.0    0.0   \n",
              "745  0.000000  ...    0.0  0.000000  0.0        0.0  0.000000    0.0    0.0   \n",
              "746  0.000000  ...    0.0  0.000000  0.0        0.0  0.000000    0.0    0.0   \n",
              "747  0.000000  ...    0.0  0.000000  0.0        0.0  0.000000    0.0    0.0   \n",
              "\n",
              "     worth  writing  years  \n",
              "0      0.0      0.0    0.0  \n",
              "1      0.0      0.0    0.0  \n",
              "2      0.0      0.0    0.0  \n",
              "3      0.0      0.0    0.0  \n",
              "4      0.0      0.0    0.0  \n",
              "..     ...      ...    ...  \n",
              "743    0.0      0.0    0.0  \n",
              "744    0.0      0.0    0.0  \n",
              "745    0.0      0.0    0.0  \n",
              "746    0.0      0.0    0.0  \n",
              "747    0.0      0.0    0.0  \n",
              "\n",
              "[748 rows x 100 columns]"
            ],
            "text/html": [
              "\n",
              "  <div id=\"df-5dcacdab-6cb2-4917-8091-adac138008be\">\n",
              "    <div class=\"colab-df-container\">\n",
              "      <div>\n",
              "<style scoped>\n",
              "    .dataframe tbody tr th:only-of-type {\n",
              "        vertical-align: middle;\n",
              "    }\n",
              "\n",
              "    .dataframe tbody tr th {\n",
              "        vertical-align: top;\n",
              "    }\n",
              "\n",
              "    .dataframe thead th {\n",
              "        text-align: right;\n",
              "    }\n",
              "</style>\n",
              "<table border=\"1\" class=\"dataframe\">\n",
              "  <thead>\n",
              "    <tr style=\"text-align: right;\">\n",
              "      <th></th>\n",
              "      <th>10</th>\n",
              "      <th>acting</th>\n",
              "      <th>actor</th>\n",
              "      <th>actors</th>\n",
              "      <th>actually</th>\n",
              "      <th>art</th>\n",
              "      <th>awful</th>\n",
              "      <th>bad</th>\n",
              "      <th>beautiful</th>\n",
              "      <th>best</th>\n",
              "      <th>...</th>\n",
              "      <th>watch</th>\n",
              "      <th>watching</th>\n",
              "      <th>way</th>\n",
              "      <th>wonderful</th>\n",
              "      <th>work</th>\n",
              "      <th>worse</th>\n",
              "      <th>worst</th>\n",
              "      <th>worth</th>\n",
              "      <th>writing</th>\n",
              "      <th>years</th>\n",
              "    </tr>\n",
              "  </thead>\n",
              "  <tbody>\n",
              "    <tr>\n",
              "      <th>0</th>\n",
              "      <td>0.0</td>\n",
              "      <td>0.000000</td>\n",
              "      <td>0.0</td>\n",
              "      <td>0.0</td>\n",
              "      <td>0.0</td>\n",
              "      <td>0.0</td>\n",
              "      <td>0.0</td>\n",
              "      <td>0.0</td>\n",
              "      <td>0.0</td>\n",
              "      <td>0.000000</td>\n",
              "      <td>...</td>\n",
              "      <td>0.0</td>\n",
              "      <td>0.000000</td>\n",
              "      <td>0.0</td>\n",
              "      <td>0.0</td>\n",
              "      <td>0.000000</td>\n",
              "      <td>0.0</td>\n",
              "      <td>0.0</td>\n",
              "      <td>0.0</td>\n",
              "      <td>0.0</td>\n",
              "      <td>0.0</td>\n",
              "    </tr>\n",
              "    <tr>\n",
              "      <th>1</th>\n",
              "      <td>0.0</td>\n",
              "      <td>0.000000</td>\n",
              "      <td>0.0</td>\n",
              "      <td>0.0</td>\n",
              "      <td>0.0</td>\n",
              "      <td>0.0</td>\n",
              "      <td>0.0</td>\n",
              "      <td>0.0</td>\n",
              "      <td>0.0</td>\n",
              "      <td>0.000000</td>\n",
              "      <td>...</td>\n",
              "      <td>0.0</td>\n",
              "      <td>0.000000</td>\n",
              "      <td>0.0</td>\n",
              "      <td>0.0</td>\n",
              "      <td>0.000000</td>\n",
              "      <td>0.0</td>\n",
              "      <td>0.0</td>\n",
              "      <td>0.0</td>\n",
              "      <td>0.0</td>\n",
              "      <td>0.0</td>\n",
              "    </tr>\n",
              "    <tr>\n",
              "      <th>2</th>\n",
              "      <td>0.0</td>\n",
              "      <td>0.402595</td>\n",
              "      <td>0.0</td>\n",
              "      <td>0.0</td>\n",
              "      <td>0.0</td>\n",
              "      <td>0.0</td>\n",
              "      <td>0.0</td>\n",
              "      <td>0.0</td>\n",
              "      <td>0.0</td>\n",
              "      <td>0.000000</td>\n",
              "      <td>...</td>\n",
              "      <td>0.0</td>\n",
              "      <td>0.000000</td>\n",
              "      <td>0.0</td>\n",
              "      <td>0.0</td>\n",
              "      <td>0.000000</td>\n",
              "      <td>0.0</td>\n",
              "      <td>0.0</td>\n",
              "      <td>0.0</td>\n",
              "      <td>0.0</td>\n",
              "      <td>0.0</td>\n",
              "    </tr>\n",
              "    <tr>\n",
              "      <th>3</th>\n",
              "      <td>0.0</td>\n",
              "      <td>0.000000</td>\n",
              "      <td>0.0</td>\n",
              "      <td>0.0</td>\n",
              "      <td>0.0</td>\n",
              "      <td>0.0</td>\n",
              "      <td>0.0</td>\n",
              "      <td>0.0</td>\n",
              "      <td>0.0</td>\n",
              "      <td>0.000000</td>\n",
              "      <td>...</td>\n",
              "      <td>0.0</td>\n",
              "      <td>0.000000</td>\n",
              "      <td>0.0</td>\n",
              "      <td>0.0</td>\n",
              "      <td>0.000000</td>\n",
              "      <td>0.0</td>\n",
              "      <td>0.0</td>\n",
              "      <td>0.0</td>\n",
              "      <td>0.0</td>\n",
              "      <td>0.0</td>\n",
              "    </tr>\n",
              "    <tr>\n",
              "      <th>4</th>\n",
              "      <td>0.0</td>\n",
              "      <td>0.000000</td>\n",
              "      <td>0.0</td>\n",
              "      <td>0.0</td>\n",
              "      <td>0.0</td>\n",
              "      <td>0.0</td>\n",
              "      <td>0.0</td>\n",
              "      <td>0.0</td>\n",
              "      <td>0.0</td>\n",
              "      <td>0.618573</td>\n",
              "      <td>...</td>\n",
              "      <td>0.0</td>\n",
              "      <td>0.000000</td>\n",
              "      <td>0.0</td>\n",
              "      <td>0.0</td>\n",
              "      <td>0.000000</td>\n",
              "      <td>0.0</td>\n",
              "      <td>0.0</td>\n",
              "      <td>0.0</td>\n",
              "      <td>0.0</td>\n",
              "      <td>0.0</td>\n",
              "    </tr>\n",
              "    <tr>\n",
              "      <th>...</th>\n",
              "      <td>...</td>\n",
              "      <td>...</td>\n",
              "      <td>...</td>\n",
              "      <td>...</td>\n",
              "      <td>...</td>\n",
              "      <td>...</td>\n",
              "      <td>...</td>\n",
              "      <td>...</td>\n",
              "      <td>...</td>\n",
              "      <td>...</td>\n",
              "      <td>...</td>\n",
              "      <td>...</td>\n",
              "      <td>...</td>\n",
              "      <td>...</td>\n",
              "      <td>...</td>\n",
              "      <td>...</td>\n",
              "      <td>...</td>\n",
              "      <td>...</td>\n",
              "      <td>...</td>\n",
              "      <td>...</td>\n",
              "      <td>...</td>\n",
              "    </tr>\n",
              "    <tr>\n",
              "      <th>743</th>\n",
              "      <td>0.0</td>\n",
              "      <td>0.000000</td>\n",
              "      <td>0.0</td>\n",
              "      <td>0.0</td>\n",
              "      <td>0.0</td>\n",
              "      <td>0.0</td>\n",
              "      <td>0.0</td>\n",
              "      <td>0.0</td>\n",
              "      <td>0.0</td>\n",
              "      <td>0.000000</td>\n",
              "      <td>...</td>\n",
              "      <td>0.0</td>\n",
              "      <td>0.785154</td>\n",
              "      <td>0.0</td>\n",
              "      <td>0.0</td>\n",
              "      <td>0.000000</td>\n",
              "      <td>0.0</td>\n",
              "      <td>0.0</td>\n",
              "      <td>0.0</td>\n",
              "      <td>0.0</td>\n",
              "      <td>0.0</td>\n",
              "    </tr>\n",
              "    <tr>\n",
              "      <th>744</th>\n",
              "      <td>0.0</td>\n",
              "      <td>0.000000</td>\n",
              "      <td>0.0</td>\n",
              "      <td>0.0</td>\n",
              "      <td>0.0</td>\n",
              "      <td>0.0</td>\n",
              "      <td>0.0</td>\n",
              "      <td>0.0</td>\n",
              "      <td>0.0</td>\n",
              "      <td>0.000000</td>\n",
              "      <td>...</td>\n",
              "      <td>0.0</td>\n",
              "      <td>0.000000</td>\n",
              "      <td>0.0</td>\n",
              "      <td>0.0</td>\n",
              "      <td>0.652005</td>\n",
              "      <td>0.0</td>\n",
              "      <td>0.0</td>\n",
              "      <td>0.0</td>\n",
              "      <td>0.0</td>\n",
              "      <td>0.0</td>\n",
              "    </tr>\n",
              "    <tr>\n",
              "      <th>745</th>\n",
              "      <td>0.0</td>\n",
              "      <td>0.000000</td>\n",
              "      <td>0.0</td>\n",
              "      <td>0.0</td>\n",
              "      <td>0.0</td>\n",
              "      <td>0.0</td>\n",
              "      <td>0.0</td>\n",
              "      <td>0.0</td>\n",
              "      <td>0.0</td>\n",
              "      <td>0.000000</td>\n",
              "      <td>...</td>\n",
              "      <td>0.0</td>\n",
              "      <td>0.000000</td>\n",
              "      <td>0.0</td>\n",
              "      <td>0.0</td>\n",
              "      <td>0.000000</td>\n",
              "      <td>0.0</td>\n",
              "      <td>0.0</td>\n",
              "      <td>0.0</td>\n",
              "      <td>0.0</td>\n",
              "      <td>0.0</td>\n",
              "    </tr>\n",
              "    <tr>\n",
              "      <th>746</th>\n",
              "      <td>0.0</td>\n",
              "      <td>0.000000</td>\n",
              "      <td>0.0</td>\n",
              "      <td>0.0</td>\n",
              "      <td>0.0</td>\n",
              "      <td>0.0</td>\n",
              "      <td>0.0</td>\n",
              "      <td>1.0</td>\n",
              "      <td>0.0</td>\n",
              "      <td>0.000000</td>\n",
              "      <td>...</td>\n",
              "      <td>0.0</td>\n",
              "      <td>0.000000</td>\n",
              "      <td>0.0</td>\n",
              "      <td>0.0</td>\n",
              "      <td>0.000000</td>\n",
              "      <td>0.0</td>\n",
              "      <td>0.0</td>\n",
              "      <td>0.0</td>\n",
              "      <td>0.0</td>\n",
              "      <td>0.0</td>\n",
              "    </tr>\n",
              "    <tr>\n",
              "      <th>747</th>\n",
              "      <td>0.0</td>\n",
              "      <td>0.000000</td>\n",
              "      <td>0.0</td>\n",
              "      <td>0.0</td>\n",
              "      <td>0.0</td>\n",
              "      <td>0.0</td>\n",
              "      <td>0.0</td>\n",
              "      <td>0.0</td>\n",
              "      <td>0.0</td>\n",
              "      <td>0.000000</td>\n",
              "      <td>...</td>\n",
              "      <td>0.0</td>\n",
              "      <td>0.000000</td>\n",
              "      <td>0.0</td>\n",
              "      <td>0.0</td>\n",
              "      <td>0.000000</td>\n",
              "      <td>0.0</td>\n",
              "      <td>0.0</td>\n",
              "      <td>0.0</td>\n",
              "      <td>0.0</td>\n",
              "      <td>0.0</td>\n",
              "    </tr>\n",
              "  </tbody>\n",
              "</table>\n",
              "<p>748 rows × 100 columns</p>\n",
              "</div>\n",
              "      <button class=\"colab-df-convert\" onclick=\"convertToInteractive('df-5dcacdab-6cb2-4917-8091-adac138008be')\"\n",
              "              title=\"Convert this dataframe to an interactive table.\"\n",
              "              style=\"display:none;\">\n",
              "        \n",
              "  <svg xmlns=\"http://www.w3.org/2000/svg\" height=\"24px\"viewBox=\"0 0 24 24\"\n",
              "       width=\"24px\">\n",
              "    <path d=\"M0 0h24v24H0V0z\" fill=\"none\"/>\n",
              "    <path d=\"M18.56 5.44l.94 2.06.94-2.06 2.06-.94-2.06-.94-.94-2.06-.94 2.06-2.06.94zm-11 1L8.5 8.5l.94-2.06 2.06-.94-2.06-.94L8.5 2.5l-.94 2.06-2.06.94zm10 10l.94 2.06.94-2.06 2.06-.94-2.06-.94-.94-2.06-.94 2.06-2.06.94z\"/><path d=\"M17.41 7.96l-1.37-1.37c-.4-.4-.92-.59-1.43-.59-.52 0-1.04.2-1.43.59L10.3 9.45l-7.72 7.72c-.78.78-.78 2.05 0 2.83L4 21.41c.39.39.9.59 1.41.59.51 0 1.02-.2 1.41-.59l7.78-7.78 2.81-2.81c.8-.78.8-2.07 0-2.86zM5.41 20L4 18.59l7.72-7.72 1.47 1.35L5.41 20z\"/>\n",
              "  </svg>\n",
              "      </button>\n",
              "      \n",
              "  <style>\n",
              "    .colab-df-container {\n",
              "      display:flex;\n",
              "      flex-wrap:wrap;\n",
              "      gap: 12px;\n",
              "    }\n",
              "\n",
              "    .colab-df-convert {\n",
              "      background-color: #E8F0FE;\n",
              "      border: none;\n",
              "      border-radius: 50%;\n",
              "      cursor: pointer;\n",
              "      display: none;\n",
              "      fill: #1967D2;\n",
              "      height: 32px;\n",
              "      padding: 0 0 0 0;\n",
              "      width: 32px;\n",
              "    }\n",
              "\n",
              "    .colab-df-convert:hover {\n",
              "      background-color: #E2EBFA;\n",
              "      box-shadow: 0px 1px 2px rgba(60, 64, 67, 0.3), 0px 1px 3px 1px rgba(60, 64, 67, 0.15);\n",
              "      fill: #174EA6;\n",
              "    }\n",
              "\n",
              "    [theme=dark] .colab-df-convert {\n",
              "      background-color: #3B4455;\n",
              "      fill: #D2E3FC;\n",
              "    }\n",
              "\n",
              "    [theme=dark] .colab-df-convert:hover {\n",
              "      background-color: #434B5C;\n",
              "      box-shadow: 0px 1px 3px 1px rgba(0, 0, 0, 0.15);\n",
              "      filter: drop-shadow(0px 1px 2px rgba(0, 0, 0, 0.3));\n",
              "      fill: #FFFFFF;\n",
              "    }\n",
              "  </style>\n",
              "\n",
              "      <script>\n",
              "        const buttonEl =\n",
              "          document.querySelector('#df-5dcacdab-6cb2-4917-8091-adac138008be button.colab-df-convert');\n",
              "        buttonEl.style.display =\n",
              "          google.colab.kernel.accessAllowed ? 'block' : 'none';\n",
              "\n",
              "        async function convertToInteractive(key) {\n",
              "          const element = document.querySelector('#df-5dcacdab-6cb2-4917-8091-adac138008be');\n",
              "          const dataTable =\n",
              "            await google.colab.kernel.invokeFunction('convertToInteractive',\n",
              "                                                     [key], {});\n",
              "          if (!dataTable) return;\n",
              "\n",
              "          const docLinkHtml = 'Like what you see? Visit the ' +\n",
              "            '<a target=\"_blank\" href=https://colab.research.google.com/notebooks/data_table.ipynb>data table notebook</a>'\n",
              "            + ' to learn more about interactive tables.';\n",
              "          element.innerHTML = '';\n",
              "          dataTable['output_type'] = 'display_data';\n",
              "          await google.colab.output.renderOutput(dataTable, element);\n",
              "          const docLink = document.createElement('div');\n",
              "          docLink.innerHTML = docLinkHtml;\n",
              "          element.appendChild(docLink);\n",
              "        }\n",
              "      </script>\n",
              "    </div>\n",
              "  </div>\n",
              "  "
            ]
          },
          "metadata": {},
          "execution_count": 14
        }
      ]
    },
    {
      "cell_type": "markdown",
      "source": [
        "# 토큰화(tokenization)\n",
        "- 자연어 처리를 위해 문장을 처리하기 위한 단위인 토큰으로 분리하는것"
      ],
      "metadata": {
        "id": "mCPucChd0LNS"
      }
    },
    {
      "cell_type": "code",
      "source": [
        "from torchtext.data.utils import get_tokenizer\n",
        "tokenizer = get_tokenizer(\"basic_english\")\n",
        "# get_tokenizer(lambda x : x.split())"
      ],
      "metadata": {
        "id": "9bEvkTHZ04II"
      },
      "execution_count": null,
      "outputs": []
    },
    {
      "cell_type": "code",
      "source": [
        "tokenizer(\"i love you\")"
      ],
      "metadata": {
        "colab": {
          "base_uri": "https://localhost:8080/"
        },
        "id": "BEfUBmOU04E8",
        "outputId": "a316e106-6218-4b2d-8253-e730231e0d69"
      },
      "execution_count": null,
      "outputs": [
        {
          "output_type": "execute_result",
          "data": {
            "text/plain": [
              "['i', 'love', 'you']"
            ]
          },
          "metadata": {},
          "execution_count": 16
        }
      ]
    },
    {
      "cell_type": "markdown",
      "source": [
        "- 어휘집 만들기"
      ],
      "metadata": {
        "id": "wTutuoBJ10GR"
      }
    },
    {
      "cell_type": "code",
      "source": [
        "from torchtext.vocab import build_vocab_from_iterator"
      ],
      "metadata": {
        "id": "1iSkqipy04CF"
      },
      "execution_count": null,
      "outputs": []
    },
    {
      "cell_type": "code",
      "source": [
        "def yield_tokens(data,tokenizer):\n",
        "    for text in data:\n",
        "        yield tokenizer(text)"
      ],
      "metadata": {
        "id": "hPzPvhJR0KAo"
      },
      "execution_count": null,
      "outputs": []
    },
    {
      "cell_type": "markdown",
      "source": [
        "- padding\n",
        "- OOV(Out-Of-Vocabulary) "
      ],
      "metadata": {
        "id": "gCV7Ar0F3zqV"
      }
    },
    {
      "cell_type": "code",
      "source": [
        "gen =yield_tokens(df[\"review\"],tokenizer)\n",
        "vocab = build_vocab_from_iterator(gen,specials=[\"<pad>\",\"<unk>\"])\n",
        "vocab.set_default_index(vocab[\"<unk>\"])"
      ],
      "metadata": {
        "id": "f1yb2LN321LJ"
      },
      "execution_count": null,
      "outputs": []
    },
    {
      "cell_type": "code",
      "source": [
        "len(vocab)"
      ],
      "metadata": {
        "colab": {
          "base_uri": "https://localhost:8080/"
        },
        "id": "tx8FOhnV0J9o",
        "outputId": "291342da-13e0-4fae-e477-91d890446cc8"
      },
      "execution_count": null,
      "outputs": [
        {
          "output_type": "execute_result",
          "data": {
            "text/plain": [
              "3146"
            ]
          },
          "metadata": {},
          "execution_count": 20
        }
      ]
    },
    {
      "cell_type": "code",
      "source": [
        "vocab([\"a\",\"very\",\"karns\"])"
      ],
      "metadata": {
        "colab": {
          "base_uri": "https://localhost:8080/"
        },
        "id": "AJxE5C6t0J6z",
        "outputId": "9a5fb47d-7f8d-47fa-90fa-77276c1395c7"
      },
      "execution_count": null,
      "outputs": [
        {
          "output_type": "execute_result",
          "data": {
            "text/plain": [
              "[6, 34, 1]"
            ]
          },
          "metadata": {},
          "execution_count": 21
        }
      ]
    },
    {
      "cell_type": "code",
      "source": [
        "vocab.lookup_tokens([6,34,1,0])"
      ],
      "metadata": {
        "colab": {
          "base_uri": "https://localhost:8080/"
        },
        "id": "JTUKrO35tYPO",
        "outputId": "3c93ec37-7423-4b10-8e35-872d17dfa3b4"
      },
      "execution_count": null,
      "outputs": [
        {
          "output_type": "execute_result",
          "data": {
            "text/plain": [
              "['a', 'very', '<unk>', '<pad>']"
            ]
          },
          "metadata": {},
          "execution_count": 22
        }
      ]
    },
    {
      "cell_type": "markdown",
      "source": [
        "- 학습 및 정답 데이터 만들기"
      ],
      "metadata": {
        "id": "aATG8YcQ6Dlr"
      }
    },
    {
      "cell_type": "code",
      "source": [
        "train = [ vocab(tokenizer(text))  for text in df[\"review\"].tolist()]\n",
        "target = df.sentiment.to_numpy()\n",
        "len(train), target.shape"
      ],
      "metadata": {
        "colab": {
          "base_uri": "https://localhost:8080/"
        },
        "id": "2OXJBtE65_WE",
        "outputId": "caa206c0-0f48-4a15-d778-732df5d38186"
      },
      "execution_count": null,
      "outputs": [
        {
          "output_type": "execute_result",
          "data": {
            "text/plain": [
              "(748, (748,))"
            ]
          },
          "metadata": {},
          "execution_count": 23
        }
      ]
    },
    {
      "cell_type": "code",
      "source": [
        "import torch\n",
        "import numpy as np\n",
        "import pandas as pd\n",
        "from tqdm.auto import tqdm\n",
        "import random # 시드 고정을 위해\n",
        "import os # 시드 고정을 위해\n",
        "\n",
        "device = 'cuda' if torch.cuda.is_available() else 'cpu'\n",
        "device"
      ],
      "metadata": {
        "colab": {
          "base_uri": "https://localhost:8080/",
          "height": 35
        },
        "id": "qXxkbkqaAIDP",
        "outputId": "256af5df-e893-4087-b99f-3916f3b0066b"
      },
      "execution_count": null,
      "outputs": [
        {
          "output_type": "execute_result",
          "data": {
            "text/plain": [
              "'cuda'"
            ],
            "application/vnd.google.colaboratory.intrinsic+json": {
              "type": "string"
            }
          },
          "metadata": {},
          "execution_count": 24
        }
      ]
    },
    {
      "cell_type": "code",
      "source": [
        "def reset_seeds(seed):\n",
        "    random.seed(seed)\n",
        "    os.environ['PYTHONHASHSEED'] = str(seed)    # 파이썬 환경변수 시드 고정\n",
        "    np.random.seed(seed)\n",
        "    torch.manual_seed(seed) # cpu 연산 무작위 고정\n",
        "    torch.cuda.manual_seed(seed) # gpu 연산 무작위 고정\n",
        "    torch.backends.cudnn.deterministic = True  # cuda 라이브러리에서 Deterministic(결정론적)으로 예측하기 (예측에 대한 불확실성 제거 )"
      ],
      "metadata": {
        "id": "b5twuO8_AMgN"
      },
      "execution_count": null,
      "outputs": []
    },
    {
      "cell_type": "code",
      "source": [
        "class ReviewDataset(torch.utils.data.Dataset):\n",
        "    def __init__(self,x,y=None):\n",
        "        self.x = x\n",
        "        self.y = y\n",
        "    def __len__(self):\n",
        "        return len(self.x)\n",
        "    def __getitem__(self,idx):\n",
        "        item = {}\n",
        "        item[\"x\"] = self.x[idx]\n",
        "        if self.y is not None:\n",
        "            item[\"y\"] = self.y[idx]\n",
        "        return item"
      ],
      "metadata": {
        "id": "Tc8xCkwP_5Hy"
      },
      "execution_count": null,
      "outputs": []
    },
    {
      "cell_type": "code",
      "source": [
        "dt = ReviewDataset(train,target)\n",
        "[dt[0] , dt[1]]"
      ],
      "metadata": {
        "colab": {
          "base_uri": "https://localhost:8080/"
        },
        "id": "ktbPPnXl_5FK",
        "outputId": "0537f6fb-c0ed-4e3c-8b08-32ad1535d91a"
      },
      "execution_count": null,
      "outputs": [
        {
          "output_type": "execute_result",
          "data": {
            "text/plain": [
              "[{'x': [6,\n",
              "   34,\n",
              "   4,\n",
              "   34,\n",
              "   4,\n",
              "   34,\n",
              "   2741,\n",
              "   4,\n",
              "   1263,\n",
              "   16,\n",
              "   44,\n",
              "   6,\n",
              "   1688,\n",
              "   4,\n",
              "   1709,\n",
              "   524,\n",
              "   155,\n",
              "   2],\n",
              "  'y': 0},\n",
              " {'x': [32,\n",
              "   696,\n",
              "   62,\n",
              "   15,\n",
              "   71,\n",
              "   462,\n",
              "   70,\n",
              "   3,\n",
              "   896,\n",
              "   66,\n",
              "   58,\n",
              "   3,\n",
              "   345,\n",
              "   4,\n",
              "   2338,\n",
              "   312,\n",
              "   7,\n",
              "   1187,\n",
              "   1174,\n",
              "   52,\n",
              "   2],\n",
              "  'y': 0}]"
            ]
          },
          "metadata": {},
          "execution_count": 27
        }
      ]
    },
    {
      "cell_type": "markdown",
      "source": [
        "- collate_fn"
      ],
      "metadata": {
        "id": "hr3UDtyLCv1o"
      }
    },
    {
      "cell_type": "code",
      "source": [
        "def collate_fn(samples):\n",
        "    x = [ torch.LongTensor(sample[\"x\"]) for sample in samples]\n",
        "    y = [ sample[\"y\"] for sample in samples]\n",
        "    y = torch.Tensor(y).view(-1,1)\n",
        "    x = torch.nn.utils.rnn.pad_sequence(x,batch_first=True)\n",
        "    return {\"x\":x,\"y\":y}"
      ],
      "metadata": {
        "id": "qLrcVTjJDFPk"
      },
      "execution_count": null,
      "outputs": []
    },
    {
      "cell_type": "code",
      "source": [
        "dl = torch.utils.data.DataLoader(dt,shuffle=False ,batch_size = 8,collate_fn = collate_fn)"
      ],
      "metadata": {
        "id": "EZHFp9sv_5Ck"
      },
      "execution_count": null,
      "outputs": []
    },
    {
      "cell_type": "code",
      "source": [
        "batch = next(iter(dl))\n",
        "batch"
      ],
      "metadata": {
        "colab": {
          "base_uri": "https://localhost:8080/"
        },
        "id": "nLUvhjHf_4_m",
        "outputId": "13cc873f-d2e3-4612-eeeb-6ed49b871a18"
      },
      "execution_count": null,
      "outputs": [
        {
          "output_type": "execute_result",
          "data": {
            "text/plain": [
              "{'x': tensor([[   6,   34,    4,   34,    4,   34, 2741,    4, 1263,   16,   44,    6,\n",
              "          1688,    4, 1709,  524,  155,    2,    0,    0,    0,    0,    0,    0,\n",
              "             0,    0,    0,    0,    0,    0,    0,    0,    0],\n",
              "         [  32,  696,   62,   15,   71,  462,   70,    3,  896,   66,   58,    3,\n",
              "           345,    4, 2338,  312,    7, 1187, 1174,   52,    2,    0,    0,    0,\n",
              "             0,    0,    0,    0,    0,    0,    0,    0,    0],\n",
              "         [1319, 1306,   26,  198,  216,  264,    5,  352,  244,  753,    4,    3,\n",
              "            16,  304,   70,  769,   59,   71,  387,   70,   24,    3,   54,   15,\n",
              "           329,    5,    3,   80,    5,  280,  218, 2357,    2],\n",
              "         [  34,  125,  144,   58,  241,   13,  690,    7,    2,    0,    0,    0,\n",
              "             0,    0,    0,    0,    0,    0,    0,    0,    0,    0,    0,    0,\n",
              "             0,    0,    0,    0,    0,    0,    0,    0,    0],\n",
              "         [   3,   85,  147,   14,    3,   16,   15,   77, 1934,    8,  513,   13,\n",
              "           202,    6,  497,   17,  963, 1085,  214,   51,  927,    2,    0,    0,\n",
              "             0,    0,    0,    0,    0,    0,    0,    0,    0],\n",
              "         [   3,  487,    7,    3,   16,  322,  165,    4,  796,    4,  626,    2,\n",
              "             2,    2,   50,   10,    9,   18,   44, 1748,    4,   10,  403,   11,\n",
              "           370,   84,   10,    9,   18,  872,    2,    0,    0],\n",
              "         [ 293,  161,  448,    2,    0,    0,    0,    0,    0,    0,    0,    0,\n",
              "             0,    0,    0,    0,    0,    0,    0,    0,    0,    0,    0,    0,\n",
              "             0,    0,    0,    0,    0,    0,    0,    0,    0],\n",
              "         [ 174,    3,   16,  508,    5,  192,   10,   15,    6,   40, 1729,    4,\n",
              "            40, 2281,   22,  251,    2,    0,    0,    0,    0,    0,    0,    0,\n",
              "             0,    0,    0,    0,    0,    0,    0,    0,    0]]),\n",
              " 'y': tensor([[0.],\n",
              "         [0.],\n",
              "         [0.],\n",
              "         [0.],\n",
              "         [1.],\n",
              "         [0.],\n",
              "         [0.],\n",
              "         [1.]])}"
            ]
          },
          "metadata": {},
          "execution_count": 30
        }
      ]
    },
    {
      "cell_type": "markdown",
      "source": [
        "# 단어 임베딩(embedding)\n",
        "- 단어를 실수 형태의 벡터로 표현하는것\n",
        "- 신경망에서 임베딩 레이어를 추가하여 단어에 임베딩을 얻을수 있음."
      ],
      "metadata": {
        "id": "7D5Fn-VEGWTh"
      }
    },
    {
      "cell_type": "markdown",
      "source": [
        "![다운로드.png](data:image/png;base64,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)"
      ],
      "metadata": {
        "id": "n5oNXCZLGzUl"
      }
    },
    {
      "cell_type": "markdown",
      "source": [
        "- num_embeddings\n",
        "    - 임베딩을 할 단어들의 개수\n",
        "- embedding_dim\n",
        "    - 단어마다 임베딩할 벡터의 차원"
      ],
      "metadata": {
        "id": "5ia5rWtnIbTy"
      }
    },
    {
      "cell_type": "code",
      "source": [
        "len(vocab)"
      ],
      "metadata": {
        "colab": {
          "base_uri": "https://localhost:8080/"
        },
        "id": "CR-NLRHqI6-e",
        "outputId": "b09f32ca-9098-4603-ebe5-080337c7f0f7"
      },
      "execution_count": null,
      "outputs": [
        {
          "output_type": "execute_result",
          "data": {
            "text/plain": [
              "3146"
            ]
          },
          "metadata": {},
          "execution_count": 31
        }
      ]
    },
    {
      "cell_type": "code",
      "source": [
        "emb_layer = torch.nn.Embedding(len(vocab),4)\n",
        "x = emb_layer(batch[\"x\"])\n",
        "x.shape"
      ],
      "metadata": {
        "colab": {
          "base_uri": "https://localhost:8080/"
        },
        "id": "eiFUwtDv5_S8",
        "outputId": "50bc7921-ee52-47fa-af3d-ff150638db8a"
      },
      "execution_count": null,
      "outputs": [
        {
          "output_type": "execute_result",
          "data": {
            "text/plain": [
              "torch.Size([8, 33, 4])"
            ]
          },
          "metadata": {},
          "execution_count": 32
        }
      ]
    },
    {
      "cell_type": "code",
      "source": [
        "x"
      ],
      "metadata": {
        "colab": {
          "base_uri": "https://localhost:8080/"
        },
        "id": "X_5Ji2W35_QS",
        "outputId": "482d52a6-8b8d-472a-e476-2f8fa231e597"
      },
      "execution_count": null,
      "outputs": [
        {
          "output_type": "execute_result",
          "data": {
            "text/plain": [
              "tensor([[[ 0.3667, -1.6846,  0.9504,  1.2340],\n",
              "         [-1.5445,  0.7828, -1.2682,  0.0943],\n",
              "         [ 1.4855,  0.3798, -0.5906, -0.4214],\n",
              "         ...,\n",
              "         [-0.3035,  0.3231, -0.4153,  1.0929],\n",
              "         [-0.3035,  0.3231, -0.4153,  1.0929],\n",
              "         [-0.3035,  0.3231, -0.4153,  1.0929]],\n",
              "\n",
              "        [[ 0.0353,  0.3614,  1.4359, -0.5915],\n",
              "         [ 0.4182, -0.2155,  1.0915,  0.3028],\n",
              "         [ 0.5137,  1.0287,  0.8395,  1.9115],\n",
              "         ...,\n",
              "         [-0.3035,  0.3231, -0.4153,  1.0929],\n",
              "         [-0.3035,  0.3231, -0.4153,  1.0929],\n",
              "         [-0.3035,  0.3231, -0.4153,  1.0929]],\n",
              "\n",
              "        [[-0.9702,  0.6797,  1.2892,  1.0209],\n",
              "         [-0.2892,  0.4299,  0.5566, -1.5891],\n",
              "         [-0.8799,  0.7133, -0.0741, -0.9959],\n",
              "         ...,\n",
              "         [ 0.5581, -0.1829,  0.5850, -0.0424],\n",
              "         [-0.2814, -0.8977, -1.1722, -1.0319],\n",
              "         [-0.4804, -0.5172,  0.0758,  0.4550]],\n",
              "\n",
              "        ...,\n",
              "\n",
              "        [[-0.5479, -0.2498,  1.2068, -0.3125],\n",
              "         [ 0.3217, -0.8962, -0.7013, -0.4357],\n",
              "         [-0.8152,  0.6014,  0.6517, -1.2706],\n",
              "         ...,\n",
              "         [-0.4804, -0.5172,  0.0758,  0.4550],\n",
              "         [-0.3035,  0.3231, -0.4153,  1.0929],\n",
              "         [-0.3035,  0.3231, -0.4153,  1.0929]],\n",
              "\n",
              "        [[-1.7455, -0.1091, -1.7937, -0.8662],\n",
              "         [ 0.0094,  0.9118,  0.8118,  0.8735],\n",
              "         [-0.7624, -0.3136, -1.2147,  1.0727],\n",
              "         ...,\n",
              "         [-0.3035,  0.3231, -0.4153,  1.0929],\n",
              "         [-0.3035,  0.3231, -0.4153,  1.0929],\n",
              "         [-0.3035,  0.3231, -0.4153,  1.0929]],\n",
              "\n",
              "        [[-0.2923, -0.0926,  0.2921,  1.0056],\n",
              "         [-0.5479, -0.2498,  1.2068, -0.3125],\n",
              "         [-1.0464, -0.5274,  1.6691,  1.2231],\n",
              "         ...,\n",
              "         [-0.3035,  0.3231, -0.4153,  1.0929],\n",
              "         [-0.3035,  0.3231, -0.4153,  1.0929],\n",
              "         [-0.3035,  0.3231, -0.4153,  1.0929]]], grad_fn=<EmbeddingBackward0>)"
            ]
          },
          "metadata": {},
          "execution_count": 33
        }
      ]
    },
    {
      "cell_type": "code",
      "source": [
        "emb_layer.weight.shape"
      ],
      "metadata": {
        "colab": {
          "base_uri": "https://localhost:8080/"
        },
        "id": "b4sxe9Hd5_Nn",
        "outputId": "ff8af2ad-32c2-4dfd-b704-040980ee769f"
      },
      "execution_count": null,
      "outputs": [
        {
          "output_type": "execute_result",
          "data": {
            "text/plain": [
              "torch.Size([3146, 4])"
            ]
          },
          "metadata": {},
          "execution_count": 34
        }
      ]
    },
    {
      "cell_type": "code",
      "source": [
        "# 임베딩 레이어를 통과시킨다.\n",
        "# rnn 레이어를 통과시킨다. "
      ],
      "metadata": {
        "id": "riTnIgRD5_Kw"
      },
      "execution_count": null,
      "outputs": []
    },
    {
      "cell_type": "code",
      "source": [
        "type(train)"
      ],
      "metadata": {
        "colab": {
          "base_uri": "https://localhost:8080/"
        },
        "id": "6hoLP67k5_H1",
        "outputId": "5db0fc16-4f37-47bf-d69d-b4f4f32830f4"
      },
      "execution_count": null,
      "outputs": [
        {
          "output_type": "execute_result",
          "data": {
            "text/plain": [
              "list"
            ]
          },
          "metadata": {},
          "execution_count": 36
        }
      ]
    },
    {
      "cell_type": "code",
      "source": [
        "tri = [2,3,4]\n",
        "np.array(train,dtype=\"object\")[tri]"
      ],
      "metadata": {
        "colab": {
          "base_uri": "https://localhost:8080/"
        },
        "id": "FNNucEH7nE76",
        "outputId": "c8084c03-8d53-47d2-b4c6-e5818de83c9b"
      },
      "execution_count": null,
      "outputs": [
        {
          "output_type": "execute_result",
          "data": {
            "text/plain": [
              "array([list([1319, 1306, 26, 198, 216, 264, 5, 352, 244, 753, 4, 3, 16, 304, 70, 769, 59, 71, 387, 70, 24, 3, 54, 15, 329, 5, 3, 80, 5, 280, 218, 2357, 2]),\n",
              "       list([34, 125, 144, 58, 241, 13, 690, 7, 2]),\n",
              "       list([3, 85, 147, 14, 3, 16, 15, 77, 1934, 8, 513, 13, 202, 6, 497, 17, 963, 1085, 214, 51, 927, 2])],\n",
              "      dtype=object)"
            ]
          },
          "metadata": {},
          "execution_count": 37
        }
      ]
    },
    {
      "cell_type": "markdown",
      "source": [
        "# 모델 만들기"
      ],
      "metadata": {
        "id": "pT8ejnq0Phrt"
      }
    },
    {
      "cell_type": "code",
      "source": [
        "class RNNModel(torch.nn.Module):\n",
        "    def __init__(self,vocab_size,embedding_dim):\n",
        "        super().__init__()\n",
        "        self.emb_layer = torch.nn.Embedding(vocab_size,embedding_dim)\n",
        "        self.gru_layer = torch.nn.GRU(embedding_dim,embedding_dim//2,batch_first=True)\n",
        "        self.output_layer = torch.nn.Linear(embedding_dim//2,1)\n",
        "    def forward(self,x):\n",
        "        x = self.emb_layer(x)\n",
        "        _ , x = self.gru_layer(x)\n",
        "        x = x.squeeze()\n",
        "        x = self.output_layer(x)\n",
        "        return x"
      ],
      "metadata": {
        "id": "2w_U3RZBPOkL"
      },
      "execution_count": null,
      "outputs": []
    },
    {
      "cell_type": "code",
      "source": [
        "model = RNNModel(len(vocab),32)\n",
        "model(batch[\"x\"])"
      ],
      "metadata": {
        "colab": {
          "base_uri": "https://localhost:8080/"
        },
        "id": "AuL9hw36POhF",
        "outputId": "4fa5851d-084f-4d2d-f2ca-3159d93b43ed"
      },
      "execution_count": null,
      "outputs": [
        {
          "output_type": "execute_result",
          "data": {
            "text/plain": [
              "tensor([[-0.5154],\n",
              "        [-0.5120],\n",
              "        [ 0.1031],\n",
              "        [-0.5175],\n",
              "        [-0.5091],\n",
              "        [-0.2556],\n",
              "        [-0.5176],\n",
              "        [-0.5160]], grad_fn=<AddmmBackward0>)"
            ]
          },
          "metadata": {},
          "execution_count": 84
        }
      ]
    },
    {
      "cell_type": "code",
      "source": [
        "def train_loop(dataloader,model,loss_fn,optimizer,device):\n",
        "    epoch_loss = 0\n",
        "    model.train()\n",
        "    for batch in dataloader: \n",
        "        pred = model(batch[\"x\"].to(device))\n",
        "        loss = loss_fn(pred, batch[\"y\"].to(device)) \n",
        "        \n",
        "        optimizer.zero_grad() \n",
        "        loss.backward()  \n",
        "        optimizer.step() \n",
        "        \n",
        "        epoch_loss += loss.item()\n",
        "\n",
        "    epoch_loss /= len(dataloader) \n",
        "\n",
        "    return epoch_loss "
      ],
      "metadata": {
        "id": "nmErjsBtPOeM"
      },
      "execution_count": null,
      "outputs": []
    },
    {
      "cell_type": "code",
      "source": [
        "@torch.no_grad() \n",
        "def test_loop(dataloader,model,loss_fn,device):\n",
        "    epoch_loss = 0\n",
        "    model.eval() \n",
        "\n",
        "    pred_list = []\n",
        "    sig = torch.nn.Sigmoid()\n",
        "\n",
        "    for batch in dataloader:\n",
        "        \n",
        "        pred = model(batch[\"x\"].to(device))\n",
        "        if batch.get(\"y\") is not None: \n",
        "            loss = loss_fn(pred, batch[\"y\"].to(device))\n",
        "            epoch_loss += loss.item()\n",
        "        pred = sig(pred)\n",
        "        pred = pred.to(\"cpu\").numpy() \n",
        "        pred_list.append(pred)\n",
        "\n",
        "    epoch_loss /= len(dataloader)\n",
        "\n",
        "    pred = np.concatenate(pred_list) \n",
        "    return epoch_loss , pred "
      ],
      "metadata": {
        "id": "juOzNatFPObU"
      },
      "execution_count": null,
      "outputs": []
    },
    {
      "cell_type": "code",
      "source": [
        "n_splits = 5\n",
        "vocab_size = len(vocab)\n",
        "embedding_dim = 32\n",
        "batch_size = 32\n",
        "epochs = 100\n",
        "loss_fn = torch.nn.BCEWithLogitsLoss()"
      ],
      "metadata": {
        "id": "i8fUy6FWQuuD"
      },
      "execution_count": null,
      "outputs": []
    },
    {
      "cell_type": "code",
      "source": [
        "from sklearn.model_selection import KFold\n",
        "cv = KFold(n_splits=n_splits,shuffle=True, random_state=SEED)"
      ],
      "metadata": {
        "id": "1C6cHlygQurm"
      },
      "execution_count": null,
      "outputs": []
    },
    {
      "cell_type": "code",
      "source": [
        "from sklearn.metrics import accuracy_score"
      ],
      "metadata": {
        "id": "rVSOlZfYQuop"
      },
      "execution_count": null,
      "outputs": []
    },
    {
      "cell_type": "code",
      "source": [
        "train_arr = np.array(train,dtype=\"object\")"
      ],
      "metadata": {
        "id": "7hxsyc_RQumE"
      },
      "execution_count": null,
      "outputs": []
    },
    {
      "cell_type": "code",
      "source": [
        "is_holdout = True\n",
        "reset_seeds(SEED)\n",
        "for tri, vai in cv.split(train_arr):\n",
        "    \n",
        "    model = RNNModel(vocab_size, embedding_dim).to(device)\n",
        "    optimizer = torch.optim.Adam(model.parameters())\n",
        "    \n",
        "    train_dt = ReviewDataset(train_arr[tri],target[tri])\n",
        "    valid_dt = ReviewDataset(train_arr[vai],target[vai])\n",
        "    train_dl = torch.utils.data.DataLoader(train_dt, batch_size=batch_size, shuffle=True,collate_fn=collate_fn)\n",
        "    valid_dl = torch.utils.data.DataLoader(valid_dt, batch_size=batch_size,shuffle=False,collate_fn=collate_fn)\n",
        "\n",
        "    for epoch in range(epochs):\n",
        "        \n",
        "        train_loss = train_loop(train_dl, model, loss_fn,optimizer,device )\n",
        "        valid_loss , pred = test_loop(valid_dl, model, loss_fn,device  )\n",
        "        pred = (pred > 0.5).astype(int) # 정확도 계산이니까 0 과 1 둘중에 결정해주기\n",
        "        print(train_loss,valid_loss , accuracy_score(target[vai],pred ) )\n",
        "\n",
        "    if is_holdout:\n",
        "        break"
      ],
      "metadata": {
        "colab": {
          "base_uri": "https://localhost:8080/"
        },
        "id": "oZRWjzAmQui3",
        "outputId": "e7bed037-b2db-4452-bc34-461394c70def"
      },
      "execution_count": null,
      "outputs": [
        {
          "output_type": "stream",
          "name": "stdout",
          "text": [
            "0.7025122485662761 0.6922433853149415 0.5066666666666667\n",
            "0.6938319739542509 0.6928412556648255 0.5066666666666667\n",
            "0.6944692730903625 0.6941798567771912 0.5066666666666667\n",
            "0.6920806891039798 0.6926254153251648 0.5066666666666667\n",
            "0.6902924713335539 0.6931883215904235 0.5066666666666667\n",
            "0.6918500379512185 0.6943435549736023 0.5066666666666667\n",
            "0.6904145008639285 0.6925901889801025 0.5066666666666667\n",
            "0.6906857490539551 0.692917275428772 0.5066666666666667\n",
            "0.6901578526747855 0.6923453092575074 0.5066666666666667\n",
            "0.6884842703216955 0.6930947303771973 0.5066666666666667\n",
            "0.6857644225421705 0.6929880857467652 0.5066666666666667\n",
            "0.6845899036056117 0.6937544703483581 0.5066666666666667\n",
            "0.6823492081541764 0.6908374905586243 0.5066666666666667\n",
            "0.679256021976471 0.6914453268051147 0.5066666666666667\n",
            "0.6831331754985609 0.6869304180145264 0.5066666666666667\n",
            "0.6699526404079638 0.6869678258895874 0.5066666666666667\n",
            "0.6703193815130937 0.6863693952560425 0.5066666666666667\n",
            "0.6527056599918165 0.6793054580688477 0.5133333333333333\n",
            "0.6431886773360403 0.6756994247436523 0.5266666666666666\n",
            "0.6222799232131556 0.6677513718605042 0.52\n",
            "0.5890639204727975 0.6579746127128601 0.5333333333333333\n",
            "0.538393077097441 0.6491315245628357 0.6133333333333333\n",
            "0.45408374227975545 0.6613269567489624 0.6133333333333333\n",
            "0.3682345104844947 0.6865774869918824 0.6333333333333333\n",
            "0.3278262474034962 0.7627051711082459 0.6066666666666667\n",
            "0.3064069920464566 0.7216159582138062 0.6333333333333333\n",
            "0.2553207544904006 0.7576677083969117 0.6466666666666666\n",
            "0.22144193437538648 0.8058355212211609 0.64\n",
            "0.2155920761196237 0.8112094759941101 0.6533333333333333\n",
            "0.17868836655428535 0.823331093788147 0.66\n",
            "0.16770637623573603 0.8475984811782837 0.6533333333333333\n",
            "0.14612911171034762 0.872466242313385 0.64\n",
            "0.1443215047842578 0.8915154576301575 0.64\n",
            "0.12588599206585632 0.902548360824585 0.64\n",
            "0.11101401832542922 0.9487935662269592 0.6266666666666667\n",
            "0.10831902078107784 0.9760414481163024 0.6266666666666667\n",
            "0.09267502885900046 1.007651686668396 0.6266666666666667\n",
            "0.09166055270715763 1.0107228875160217 0.6333333333333333\n",
            "0.08773830258532574 1.040423572063446 0.64\n",
            "0.07780111581087112 1.0501633167266846 0.6466666666666666\n",
            "0.0699653000031647 1.1006512641906738 0.6266666666666667\n",
            "0.0719468705356121 1.1116294860839844 0.6266666666666667\n",
            "0.06463384226356682 1.130637812614441 0.6333333333333333\n",
            "0.05969074623365151 1.177103614807129 0.62\n",
            "0.054947318313153165 1.1961440324783326 0.62\n",
            "0.0511291068243353 1.2170807123184204 0.62\n",
            "0.05125020385572785 1.2371559143066406 0.62\n",
            "0.04309573318613203 1.256005597114563 0.62\n",
            "0.040703125494091136 1.2737205982208253 0.62\n",
            "0.03561316675653583 1.290694260597229 0.62\n",
            "0.04034681373128766 1.3109808206558227 0.62\n",
            "0.03548881048826795 1.32689368724823 0.62\n",
            "0.034028851084019006 1.3434921503067017 0.6266666666666667\n",
            "0.033355633581155224 1.3607102155685424 0.6266666666666667\n",
            "0.03099853413081483 1.3796998500823974 0.6266666666666667\n",
            "0.032069970902643706 1.3894397020339966 0.6266666666666667\n",
            "0.03206815100029895 1.3992146015167237 0.6266666666666667\n",
            "0.02936483321613387 1.420635986328125 0.6266666666666667\n",
            "0.03286003208670177 1.434526252746582 0.6266666666666667\n",
            "0.028785679391340205 1.4409794569015504 0.6266666666666667\n",
            "0.02849293642334248 1.446782374382019 0.6266666666666667\n",
            "0.02947305760493404 1.4747454404830933 0.6266666666666667\n",
            "0.02797037814008562 1.4919211149215699 0.6266666666666667\n",
            "0.027892042539621655 1.5238629817962646 0.62\n",
            "0.026659319667439712 1.5280358076095581 0.62\n",
            "0.031238910644070098 1.542596960067749 0.62\n",
            "0.025744886823782797 1.5359776973724366 0.6266666666666667\n",
            "0.02604405856446216 1.547016167640686 0.6266666666666667\n",
            "0.026847852344967817 1.5547539949417115 0.6266666666666667\n",
            "0.026704965600449788 1.5684762239456176 0.6266666666666667\n",
            "0.026385610065373936 1.5815771579742433 0.6266666666666667\n",
            "0.025313790201356535 1.588282585144043 0.6266666666666667\n",
            "0.024618952853703184 1.5982361078262328 0.6266666666666667\n",
            "0.024677892436126347 1.6064853191375732 0.6266666666666667\n",
            "0.02487161662429571 1.6168620347976685 0.6266666666666667\n",
            "0.02422551308317404 1.624120831489563 0.6266666666666667\n",
            "0.025583781056890364 1.634069275856018 0.6266666666666667\n",
            "0.023348994700140076 1.6333998918533326 0.6266666666666667\n",
            "0.024162252531631997 1.6476815462112426 0.6266666666666667\n",
            "0.024184125671653373 1.6288448810577392 0.6333333333333333\n",
            "0.02709390539185781 1.6385522842407227 0.6333333333333333\n",
            "0.022971937530919126 1.6417017221450805 0.6333333333333333\n",
            "0.02286480002007202 1.6503463506698608 0.6333333333333333\n",
            "0.022475087402486486 1.6816928148269654 0.6266666666666667\n",
            "0.028847612587637024 1.633084225654602 0.64\n",
            "0.04052544946439172 1.697332000732422 0.6266666666666667\n",
            "0.02784190152918822 1.6753514289855957 0.62\n",
            "0.028950599978040708 1.6801438570022582 0.62\n",
            "0.021599992104855022 1.7062729358673097 0.62\n",
            "0.021580348232466923 1.7179500341415406 0.62\n",
            "0.014431941273965333 1.7530033111572265 0.6133333333333333\n",
            "0.014487625467345902 1.7593735933303833 0.6133333333333333\n",
            "0.020918413849645538 1.7458305835723877 0.62\n",
            "0.014170989639272815 1.7570063829421998 0.62\n",
            "0.014174148955039288 1.7653385162353517 0.62\n",
            "0.014536099777998109 1.7783255338668824 0.62\n",
            "0.014087346799083446 1.785698652267456 0.62\n",
            "0.013575528968909853 1.797683596611023 0.62\n",
            "0.013956163519699322 1.8042081117630004 0.62\n",
            "0.014065643723465894 1.8178324699401855 0.62\n"
          ]
        }
      ]
    },
    {
      "cell_type": "code",
      "source": [],
      "metadata": {
        "id": "tw-lP_LvQugJ"
      },
      "execution_count": null,
      "outputs": []
    },
    {
      "cell_type": "code",
      "source": [],
      "metadata": {
        "id": "tIupfyPGPOYo"
      },
      "execution_count": null,
      "outputs": []
    }
  ]
}