{
  "nbformat": 4,
  "nbformat_minor": 0,
  "metadata": {
    "colab": {
      "provenance": [],
      "collapsed_sections": []
    },
    "kernelspec": {
      "name": "python3",
      "display_name": "Python 3"
    },
    "language_info": {
      "name": "python"
    },
    "accelerator": "GPU"
  },
  "cells": [
    {
      "cell_type": "code",
      "source": [
        "import torch\n",
        "import numpy as np\n",
        "import pandas as pd\n",
        "import random # 시드 고정을 위해\n",
        "import os # 시드 고정을 위해\n",
        "from sklearn.preprocessing import OneHotEncoder\n",
        "from sklearn.preprocessing import MinMaxScaler\n",
        "from tqdm.auto import tqdm\n",
        "from sklearn.model_selection import KFold\n",
        "from sklearn.metrics import roc_auc_score"
      ],
      "metadata": {
        "id": "z5pKeNIO8m3d"
      },
      "execution_count": null,
      "outputs": []
    },
    {
      "cell_type": "markdown",
      "source": [
        "모델 학습에 사용할 cpu or gpu 장치 확인"
      ],
      "metadata": {
        "id": "uHNV7xsf9Tg6"
      }
    },
    {
      "cell_type": "code",
      "source": [
        "SEED = 42\n",
        "device = 'cuda' if torch.cuda.is_available() else 'cpu'\n",
        "device"
      ],
      "metadata": {
        "colab": {
          "base_uri": "https://localhost:8080/",
          "height": 35
        },
        "id": "095etmKn8m0e",
        "outputId": "8eae4c5b-660c-4cc0-aa26-846b913b1cae"
      },
      "execution_count": null,
      "outputs": [
        {
          "output_type": "execute_result",
          "data": {
            "text/plain": [
              "'cuda'"
            ],
            "application/vnd.google.colaboratory.intrinsic+json": {
              "type": "string"
            }
          },
          "metadata": {},
          "execution_count": 15
        }
      ]
    },
    {
      "cell_type": "markdown",
      "source": [
        "# 재현성 함수(Reproduction)"
      ],
      "metadata": {
        "id": "v3TWGipBMdqh"
      }
    },
    {
      "cell_type": "code",
      "source": [
        "def reset_seeds(seed):\n",
        "    random.seed(seed)\n",
        "    os.environ['PYTHONHASHSEED'] = str(seed)    # 파이썬 환경변수 시드 고정\n",
        "    np.random.seed(seed)\n",
        "    torch.manual_seed(seed) # cpu 연산 무작위 고정\n",
        "    torch.cuda.manual_seed(seed) # gpu 연산 무작위 고정\n",
        "    torch.backends.cudnn.deterministic = True  # cuda 라이브러리에서 Deterministic(결정론적)으로 예측하기 (예측에 대한 불확실성 제거 )"
      ],
      "metadata": {
        "id": "Cj4a-90HK7Tx"
      },
      "execution_count": null,
      "outputs": []
    },
    {
      "cell_type": "markdown",
      "source": [
        "# 구글 드라이브 마운트"
      ],
      "metadata": {
        "id": "gXtoqCbfmVpE"
      }
    },
    {
      "cell_type": "code",
      "source": [
        "from google.colab import drive\n",
        "drive.mount('/content/drive')"
      ],
      "metadata": {
        "colab": {
          "base_uri": "https://localhost:8080/"
        },
        "id": "fwco0Ga38mxW",
        "outputId": "2b248e18-0697-4dd4-9c05-6b380acb2976"
      },
      "execution_count": null,
      "outputs": [
        {
          "output_type": "stream",
          "name": "stdout",
          "text": [
            "Drive already mounted at /content/drive; to attempt to forcibly remount, call drive.mount(\"/content/drive\", force_remount=True).\n"
          ]
        }
      ]
    },
    {
      "cell_type": "markdown",
      "source": [
        "# 구글 드라이브 데이터 경로(수정하시오)"
      ],
      "metadata": {
        "id": "luXyg2JXmX-b"
      }
    },
    {
      "cell_type": "code",
      "source": [
        "DATA_PATH = \"/content/drive/MyDrive/0_강의/data/\""
      ],
      "metadata": {
        "id": "Ibhh7ywq8muW"
      },
      "execution_count": null,
      "outputs": []
    },
    {
      "cell_type": "markdown",
      "source": [
        "# 학습및 테스트 데이터"
      ],
      "metadata": {
        "id": "s8zbYf4-mcF7"
      }
    },
    {
      "cell_type": "code",
      "source": [
        "train_churn = pd.read_csv(f\"{DATA_PATH}train_churn.csv\")\n",
        "test_churn = pd.read_csv(f\"{DATA_PATH}test_churn.csv\")\n",
        "train_churn.shape ,test_churn.shape"
      ],
      "metadata": {
        "colab": {
          "base_uri": "https://localhost:8080/"
        },
        "id": "yr3ewBm7lu4Z",
        "outputId": "dd3eb8cc-6e10-48a1-eac1-2b5384d7a306"
      },
      "execution_count": null,
      "outputs": [
        {
          "output_type": "execute_result",
          "data": {
            "text/plain": [
              "((5282, 21), (1761, 20))"
            ]
          },
          "metadata": {},
          "execution_count": 19
        }
      ]
    },
    {
      "cell_type": "markdown",
      "source": [
        "# 결측치 확인"
      ],
      "metadata": {
        "id": "VxDMdb9ymeDb"
      }
    },
    {
      "cell_type": "code",
      "source": [
        "train_churn.isnull().sum().sum() , test_churn.isnull().sum().sum()"
      ],
      "metadata": {
        "colab": {
          "base_uri": "https://localhost:8080/"
        },
        "id": "GLXCU1wXmNB6",
        "outputId": "0c2aba61-c854-469a-8c7d-e73ced5afb04"
      },
      "execution_count": null,
      "outputs": [
        {
          "output_type": "execute_result",
          "data": {
            "text/plain": [
              "(0, 0)"
            ]
          },
          "metadata": {},
          "execution_count": 20
        }
      ]
    },
    {
      "cell_type": "markdown",
      "source": [
        "# 학습및 정답 데이터와 추론데이터 전처리"
      ],
      "metadata": {
        "id": "88sFYE6hmw-d"
      }
    },
    {
      "cell_type": "markdown",
      "source": [
        "- 수치형 변수 "
      ],
      "metadata": {
        "id": "wI_i4iUgnEFb"
      }
    },
    {
      "cell_type": "code",
      "source": [
        "train = train_churn.select_dtypes(\"number\").iloc[:,:-1] # 정답값 제외\n",
        "target = train_churn.iloc[:,-1] # 정답 데이터\n",
        "test = test_churn.select_dtypes(\"number\") # 추론 데이터\n",
        "\n",
        "train.shape, test.shape , target.shape"
      ],
      "metadata": {
        "colab": {
          "base_uri": "https://localhost:8080/"
        },
        "id": "DGl-vUMUmhKa",
        "outputId": "ad6985d6-a719-4bdc-b321-85c06ed34c98"
      },
      "execution_count": null,
      "outputs": [
        {
          "output_type": "execute_result",
          "data": {
            "text/plain": [
              "((5282, 17), (1761, 17), (5282,))"
            ]
          },
          "metadata": {},
          "execution_count": 21
        }
      ]
    },
    {
      "cell_type": "markdown",
      "source": [
        "- 범주형 변수 원핫 인코딩"
      ],
      "metadata": {
        "id": "skvPL_UenDkT"
      }
    },
    {
      "cell_type": "code",
      "source": [
        "cols = [\"InternetService\",\"PaymentMethod\"]\n",
        "enc = OneHotEncoder(handle_unknown=\"ignore\")\n",
        "\n",
        "# 학습데이터\n",
        "tmp = pd.DataFrame(\n",
        "    enc.fit_transform(train_churn[cols]).toarray(),\n",
        "    columns = enc.get_feature_names_out()\n",
        ")\n",
        "\n",
        "train = pd.concat([train,tmp],axis=1)\n",
        "\n",
        "# 추론 데이터\n",
        "tmp = pd.DataFrame(\n",
        "    enc.transform(test_churn[cols]).toarray(),\n",
        "    columns = enc.get_feature_names_out()\n",
        ")\n",
        "\n",
        "test = pd.concat([test,tmp],axis = 1)\n",
        "\n",
        "train.shape, test.shape"
      ],
      "metadata": {
        "colab": {
          "base_uri": "https://localhost:8080/"
        },
        "id": "mHGCNC27mhTR",
        "outputId": "1e9d836b-ae63-42c1-f39b-769924950d9b"
      },
      "execution_count": null,
      "outputs": [
        {
          "output_type": "execute_result",
          "data": {
            "text/plain": [
              "((5282, 24), (1761, 24))"
            ]
          },
          "metadata": {},
          "execution_count": 22
        }
      ]
    },
    {
      "cell_type": "markdown",
      "source": [
        "# 스케일링"
      ],
      "metadata": {
        "id": "Lb9HEkiHnj2r"
      }
    },
    {
      "cell_type": "code",
      "source": [
        "scaler = MinMaxScaler()\n",
        "train = scaler.fit_transform(train)\n",
        "test = scaler.transform(test)\n",
        "\n",
        "train.shape, test.shape , target.mean()"
      ],
      "metadata": {
        "colab": {
          "base_uri": "https://localhost:8080/"
        },
        "id": "JbwpdqoxnlYm",
        "outputId": "cb6812df-1a83-465b-e090-ecc4ef2142b1"
      },
      "execution_count": null,
      "outputs": [
        {
          "output_type": "execute_result",
          "data": {
            "text/plain": [
              "((5282, 24), (1761, 24), 0.2631578947368421)"
            ]
          },
          "metadata": {},
          "execution_count": 23
        }
      ]
    },
    {
      "cell_type": "code",
      "source": [
        "train"
      ],
      "metadata": {
        "colab": {
          "base_uri": "https://localhost:8080/"
        },
        "id": "id2PW_o4oYkO",
        "outputId": "a3373a16-72db-4520-cd07-fcde2c4be4ce"
      },
      "execution_count": null,
      "outputs": [
        {
          "output_type": "execute_result",
          "data": {
            "text/plain": [
              "array([[0., 0., 0., ..., 0., 1., 0.],\n",
              "       [1., 0., 0., ..., 0., 1., 0.],\n",
              "       [1., 0., 0., ..., 0., 0., 0.],\n",
              "       ...,\n",
              "       [0., 0., 1., ..., 0., 1., 0.],\n",
              "       [0., 1., 0., ..., 0., 1., 0.],\n",
              "       [0., 0., 0., ..., 1., 0., 0.]])"
            ]
          },
          "metadata": {},
          "execution_count": 24
        }
      ]
    },
    {
      "cell_type": "markdown",
      "source": [
        "# 여기서 부터 pytorch 를 이용하여  학습및 테스트 데이터에대한 확률을 추론해서 제출해 주세요."
      ],
      "metadata": {
        "id": "AZuMu89JooWT"
      }
    },
    {
      "cell_type": "code",
      "source": [],
      "metadata": {
        "id": "CrfndVswjV5v"
      },
      "execution_count": null,
      "outputs": []
    },
    {
      "cell_type": "code",
      "source": [],
      "metadata": {
        "id": "VHlmRzTWjV1n"
      },
      "execution_count": null,
      "outputs": []
    },
    {
      "cell_type": "code",
      "source": [
        "pred = 0 # 테스트 데이터에 대한 예측 확률, AUC 평가"
      ],
      "metadata": {
        "id": "F3aRf6FbjVt0"
      },
      "execution_count": null,
      "outputs": []
    },
    {
      "cell_type": "markdown",
      "source": [
        "# 제출파일에 예측확률 넣기"
      ],
      "metadata": {
        "id": "bzMkhnNltr7k"
      }
    },
    {
      "cell_type": "code",
      "source": [
        "submit = pd.read_csv(f\"{DATA_PATH}submit_churn.csv\")\n",
        "submit[\"target\"] = pred\n",
        "submit"
      ],
      "metadata": {
        "id": "TsFuO4q8ridU"
      },
      "execution_count": null,
      "outputs": []
    },
    {
      "cell_type": "markdown",
      "source": [
        "# 제출파일 구글드라이브에 저장"
      ],
      "metadata": {
        "id": "8OGHVmJ1txRj"
      }
    },
    {
      "cell_type": "code",
      "source": [
        "submit.to_csv(f\"{DATA_PATH}본인이름_submit.csv\",index=False)"
      ],
      "metadata": {
        "id": "ab2IqvkiriaU"
      },
      "execution_count": null,
      "outputs": []
    },
    {
      "cell_type": "code",
      "source": [],
      "metadata": {
        "id": "oTZhMuV14NzR"
      },
      "execution_count": null,
      "outputs": []
    },
    {
      "cell_type": "code",
      "source": [],
      "metadata": {
        "id": "ZZtI9dykt21j"
      },
      "execution_count": null,
      "outputs": []
    },
    {
      "cell_type": "code",
      "source": [],
      "metadata": {
        "id": "tSK7XXR4t2yV"
      },
      "execution_count": null,
      "outputs": []
    },
    {
      "cell_type": "code",
      "source": [],
      "metadata": {
        "id": "ePcv-RDtt2vU"
      },
      "execution_count": null,
      "outputs": []
    },
    {
      "cell_type": "code",
      "source": [],
      "metadata": {
        "id": "blGxkn59xiyG"
      },
      "execution_count": null,
      "outputs": []
    },
    {
      "cell_type": "code",
      "source": [],
      "metadata": {
        "id": "MRndbqnnxivE"
      },
      "execution_count": null,
      "outputs": []
    },
    {
      "cell_type": "code",
      "source": [],
      "metadata": {
        "id": "0HG0RnlXxirt"
      },
      "execution_count": null,
      "outputs": []
    }
  ]
}